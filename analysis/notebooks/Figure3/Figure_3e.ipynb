{
 "cells": [
  {
   "cell_type": "code",
   "execution_count": null,
   "metadata": {},
   "outputs": [],
   "source": [
    "# homogeneiety analysis "
   ]
  },
  {
   "cell_type": "code",
   "execution_count": 5,
   "metadata": {},
   "outputs": [],
   "source": [
    "import pandas as pd\n",
    "import matplotlib.pyplot as plt \n",
    "import seaborn as sns \n",
    "from scipy.stats import ks_2samp\n",
    "\n",
    "prop_cycle = plt.rcParams['axes.prop_cycle']\n",
    "colors = prop_cycle.by_key()['color']\n",
    "\n",
    "from Bio import SeqIO\n",
    "from io import StringIO\n",
    "from Bio.SeqUtils import GC\n",
    "from statannot import add_stat_annotation "
   ]
  },
  {
   "cell_type": "code",
   "execution_count": null,
   "metadata": {},
   "outputs": [],
   "source": [
    "## 1. Fig 3e  ----------------"
   ]
  },
  {
   "cell_type": "code",
   "execution_count": 2,
   "metadata": {},
   "outputs": [],
   "source": [
    "##  prepare the reference \n",
    "\n",
    "input_file = '/home/han/proj_het_AC/rerun_analysis/0_Manuscript_codes_submission_20250723/Figure3/Data/bruno_et_al_2010_tx_loci.fasta'\n",
    "output_file = '/home/han/proj_het_AC/rerun_analysis/0_Manuscript_codes_submission_20250723/Figure3/Data/bruno_et_al_2010_tx_loci_output.fasta'\n",
    "\n",
    "tmp_id_ls = []\n",
    "tmp_seq_ls = []\n",
    "with open(output_file, 'w') as output_handle:\n",
    "    for seqs in SeqIO.parse(open(input_file),'fasta'):\n",
    "        tmp_id_ls.append(seqs.id)\n",
    "        tmp_seq_ls.append(str(seqs.seq))\n",
    "\n",
    "original_seq_df = pd.DataFrame([tmp_id_ls, tmp_seq_ls]).T\n",
    "original_seq_df = original_seq_df.rename(columns={0: 'gene', 1:'seq'})\n",
    "original_seq_df.to_csv('/home/han/proj_het_AC/rerun_analysis/0_Manuscript_codes_submission_20250723/Figure3/Data/bruno_et_al_2010_tx_loci.txt',sep='\\t')\n",
    "\n",
    "f_annotations = \"/home/han/proj_het_AC/rerun_analysis/0_Manuscript_codes_submission_20250723/Figure3/Data/bruno_et_al_2010_tx_loci.annotation\"\n",
    "annotation = pd.read_csv(f_annotations,sep='\\t')\n",
    "df = pd.merge(original_seq_df, annotation,how='left',on=['gene','gene'])"
   ]
  },
  {
   "cell_type": "code",
   "execution_count": 3,
   "metadata": {},
   "outputs": [],
   "source": [
    "def get_window(row):\n",
    "\n",
    "    start = row['window_start_x']\n",
    "    end = row['window_end_x']\n",
    "    \n",
    "    subseq = row['seq'][int(start):int(end)]\n",
    "    \n",
    "    return subseq"
   ]
  },
  {
   "cell_type": "code",
   "execution_count": 6,
   "metadata": {},
   "outputs": [
    {
     "name": "stderr",
     "output_type": "stream",
     "text": [
      "/tmp/ipykernel_4032/698419380.py:19: FutureWarning: In a future version of pandas all arguments of StringMethods.split except for the argument 'pat' will be keyword-only.\n",
      "  aver[['gene','window_start','window_end']] = aver['id'].str.split('_',2,expand = True)\n",
      "/tmp/ipykernel_4032/698419380.py:32: SettingWithCopyWarning: \n",
      "A value is trying to be set on a copy of a slice from a DataFrame.\n",
      "Try using .loc[row_indexer,col_indexer] = value instead\n",
      "\n",
      "See the caveats in the documentation: https://pandas.pydata.org/pandas-docs/stable/user_guide/indexing.html#returning-a-view-versus-a-copy\n",
      "  top['group'] = 'top 1/3'\n",
      "/tmp/ipykernel_4032/698419380.py:34: SettingWithCopyWarning: \n",
      "A value is trying to be set on a copy of a slice from a DataFrame.\n",
      "Try using .loc[row_indexer,col_indexer] = value instead\n",
      "\n",
      "See the caveats in the documentation: https://pandas.pydata.org/pandas-docs/stable/user_guide/indexing.html#returning-a-view-versus-a-copy\n",
      "  bottom['group'] = 'bottom 1/3'\n",
      "No artists with labels found to put in legend.  Note that artists whose label start with an underscore are ignored when legend() is called with no argument.\n"
     ]
    },
    {
     "name": "stdout",
     "output_type": "stream",
     "text": [
      "(556, 23)\n",
      "top 1/3 v.s. bottom 1/3: Mann-Whitney-Wilcoxon test two-sided, P_val=1.831e-02 U_stat=3.418e+04\n"
     ]
    },
    {
     "data": {
      "image/png": "[encoded data removed]",
      "text/plain": [
       "<Figure size 259.2x360 with 1 Axes>"
      ]
     },
     "metadata": {
      "needs_background": "light"
     },
     "output_type": "display_data"
    }
   ],
   "source": [
    "### 30C ----------------------------\n",
    "### pure condition\n",
    "\n",
    "dir = '/home/han/proj_het_AC/rerun_analysis/0_Manuscript_codes_submission_20250723/Figure3/Data/'\n",
    "pure = pd.read_csv(dir+'homo_pure_allinfo_vivo.txt', sep='\\t')\n",
    "pure.columns \n",
    "pure=pure.dropna()\n",
    "pure['weighted_corr'] = pd.to_numeric(pure['weighted_corr'], errors='coerce')\n",
    "pure['replicate'] = pd.to_numeric(pure['replicate'], errors='coerce')\n",
    "pure = pure[(pure['replicate'] == 0) | (pure['replicate'] == 1) | (pure['replicate'] == 2)]\n",
    "pure['window_start'] = pd.to_numeric(pure['window_start'], errors='coerce')\n",
    "pure['window_end'] = pd.to_numeric(pure['window_end'], errors='coerce')\n",
    "pure['window_start'] = pure['window_start'].astype(int)\n",
    "pure['window_end'] = pure['window_end'].astype(int)\n",
    "pure['win_length'] = pure['window_end'].astype(int) - pure['window_start'].astype(int)\n",
    "pure['id'] = pure['gene'] + '_' + pure['window_start'].astype(str)  + '_' + pure['window_end'].astype(str)\n",
    "aver = pure.groupby(['condition', 'id', 'region'])['weighted_corr'].mean()\n",
    "aver = aver.reset_index()\n",
    "aver[['gene','window_start','window_end']] = aver['id'].str.split('_',2,expand = True)\n",
    "pure=aver\n",
    "\n",
    "tmp1 = pure[pure['condition'] == '30C']\n",
    "tmp2 = pure[pure['condition'] == '37C']\n",
    "\n",
    "df_merge = pd.merge(tmp1,tmp2,how='inner',on=['id','id'])\n",
    "quan1 = 2/3\n",
    "diff1 = df_merge['weighted_corr_x'].quantile(q=quan1)\n",
    "quan2 = 1/3\n",
    "diff2 = df_merge['weighted_corr_x'].quantile(q=quan2)\n",
    "\n",
    "top = df_merge[df_merge['weighted_corr_x'] >= diff1]\n",
    "top['group'] = 'top 1/3'\n",
    "bottom = df_merge[df_merge['weighted_corr_x'] <= diff2]\n",
    "bottom['group'] = 'bottom 1/3'\n",
    "combine = pd.concat([top,bottom],ignore_index=True)\n",
    "combine['gene'] = combine['gene_x']\n",
    "\n",
    "### integrate with seq\n",
    "dplot = pd.merge(combine,df,how='left',on=['gene','gene']) \n",
    "dplot['window_seq'] = dplot.apply(get_window,axis=1)\n",
    "\n",
    "dplot = dplot.drop_duplicates()\n",
    "dplot['window_seq'] = dplot['window_seq'].astype(str)\n",
    "dplot['GC_window_seq'] = dplot['window_seq'].apply(GC)\n",
    "\n",
    "print(dplot.shape) \n",
    "\n",
    "\n",
    "### plots------------------\n",
    "\n",
    "plt.figure(figsize=(3.6,5))\n",
    "\n",
    "ax = sns.boxplot(data=dplot, x='group',y='GC_window_seq', showfliers = False, dodge=False)  # order = order\n",
    "plt.title('Vivo 30C \\n (N='+str(len(dplot.id.unique()))+')',fontsize = 16)\n",
    "plt.xlabel('Homogeneity',fontsize = 16) \n",
    "plt.ylabel('GC content',fontsize = 16)\n",
    "plt.xticks(fontsize = 14,rotation=90) \n",
    "plt.yticks(fontsize = 14) \n",
    "plt.ylim(0,60)\n",
    "plt.legend(loc='best', bbox_to_anchor=(1.01, 0.7),prop={'size': 12})\n",
    "ax.spines[['right', 'top']].set_visible(False) \n",
    "\n",
    "add_stat_annotation(ax, data=dplot, x='group',y='GC_window_seq', \n",
    "                    box_pairs = [(\"top 1/3\", \"bottom 1/3\")],\n",
    "                    comparisons_correction = None,\n",
    "                    test=\"Mann-Whitney\",text_format='full', loc='inside', line_offset_to_box=0.1, verbose=3)  \n",
    "\n",
    "dir_out = '/home/han/proj_het_AC/rerun_analysis/0_Manuscript_codes_submission_20250723/Figure3/Data/'\n",
    "plt.savefig(dir_out+'Fig3e_vivo_GC_30C.pdf',bbox_inches='tight', dpi=300) "
   ]
  },
  {
   "cell_type": "code",
   "execution_count": 9,
   "metadata": {},
   "outputs": [
    {
     "name": "stderr",
     "output_type": "stream",
     "text": [
      "/tmp/ipykernel_4032/1228257362.py:19: FutureWarning: In a future version of pandas all arguments of StringMethods.split except for the argument 'pat' will be keyword-only.\n",
      "  aver[['gene','window_start','window_end']] = aver['id'].str.split('_',2,expand = True)\n",
      "/tmp/ipykernel_4032/1228257362.py:32: SettingWithCopyWarning: \n",
      "A value is trying to be set on a copy of a slice from a DataFrame.\n",
      "Try using .loc[row_indexer,col_indexer] = value instead\n",
      "\n",
      "See the caveats in the documentation: https://pandas.pydata.org/pandas-docs/stable/user_guide/indexing.html#returning-a-view-versus-a-copy\n",
      "  top['group'] = 'top 1/3'\n",
      "/tmp/ipykernel_4032/1228257362.py:34: SettingWithCopyWarning: \n",
      "A value is trying to be set on a copy of a slice from a DataFrame.\n",
      "Try using .loc[row_indexer,col_indexer] = value instead\n",
      "\n",
      "See the caveats in the documentation: https://pandas.pydata.org/pandas-docs/stable/user_guide/indexing.html#returning-a-view-versus-a-copy\n",
      "  bottom['group'] = 'bottom 1/3'\n",
      "No artists with labels found to put in legend.  Note that artists whose label start with an underscore are ignored when legend() is called with no argument.\n"
     ]
    },
    {
     "name": "stdout",
     "output_type": "stream",
     "text": [
      "(556, 23)\n",
      "top 1/3 v.s. bottom 1/3: Mann-Whitney-Wilcoxon test two-sided, P_val=8.467e-05 U_stat=3.120e+04\n"
     ]
    },
    {
     "data": {
      "image/png": "[encoded data removed]",
      "text/plain": [
       "<Figure size 259.2x360 with 1 Axes>"
      ]
     },
     "metadata": {
      "needs_background": "light"
     },
     "output_type": "display_data"
    }
   ],
   "source": [
    "### 37C------------------------\n",
    "### pure condition\n",
    "\n",
    "dir = '/home/han/proj_het_AC/rerun_analysis/0_Manuscript_codes_submission_20250723/Figure3/Data/'\n",
    "pure = pd.read_csv(dir+'homo_pure_allinfo_vivo.txt', sep='\\t')\n",
    "pure.columns \n",
    "pure=pure.dropna()\n",
    "pure['weighted_corr'] = pd.to_numeric(pure['weighted_corr'], errors='coerce')\n",
    "pure['replicate'] = pd.to_numeric(pure['replicate'], errors='coerce')\n",
    "pure = pure[(pure['replicate'] == 0) | (pure['replicate'] == 1) | (pure['replicate'] == 2)]\n",
    "pure['window_start'] = pd.to_numeric(pure['window_start'], errors='coerce')\n",
    "pure['window_end'] = pd.to_numeric(pure['window_end'], errors='coerce')\n",
    "pure['window_start'] = pure['window_start'].astype(int)\n",
    "pure['window_end'] = pure['window_end'].astype(int)\n",
    "pure['win_length'] = pure['window_end'].astype(int) - pure['window_start'].astype(int)\n",
    "pure['id'] = pure['gene'] + '_' + pure['window_start'].astype(str)  + '_' + pure['window_end'].astype(str)\n",
    "aver = pure.groupby(['condition', 'id', 'region'])['weighted_corr'].mean()\n",
    "aver = aver.reset_index()\n",
    "aver[['gene','window_start','window_end']] = aver['id'].str.split('_',2,expand = True)\n",
    "pure=aver\n",
    "\n",
    "tmp1 = pure[pure['condition'] == '30C']\n",
    "tmp2 = pure[pure['condition'] == '37C']\n",
    "\n",
    "df_merge = pd.merge(tmp1,tmp2,how='inner',on=['id','id'])\n",
    "quan1 = 2/3\n",
    "diff1 = df_merge['weighted_corr_y'].quantile(q=quan1)\n",
    "quan2 = 1/3\n",
    "diff2 = df_merge['weighted_corr_y'].quantile(q=quan2)\n",
    "\n",
    "top = df_merge[df_merge['weighted_corr_y'] >= diff1]\n",
    "top['group'] = 'top 1/3'\n",
    "bottom = df_merge[df_merge['weighted_corr_y'] <= diff2]\n",
    "bottom['group'] = 'bottom 1/3'\n",
    "combine = pd.concat([top,bottom],ignore_index=True)\n",
    "combine['gene'] = combine['gene_x']\n",
    "\n",
    "\n",
    "### integrate with seq\n",
    "dplot = pd.merge(combine,df,how='left',on=['gene','gene']) \n",
    "dplot['window_seq'] = dplot.apply(get_window,axis=1)\n",
    "\n",
    "dplot = dplot.drop_duplicates()\n",
    "dplot['window_seq'] = dplot['window_seq'].astype(str)\n",
    "dplot['GC_window_seq'] = dplot['window_seq'].apply(GC)\n",
    "\n",
    "print(dplot.shape)\n",
    "\n",
    "\n",
    "### plot--------------------------\n",
    "\n",
    "plt.figure(figsize=(3.6,5))\n",
    "\n",
    "ax = sns.boxplot(data=dplot, x='group',y='GC_window_seq', showfliers = False, dodge=False)  # order = order\n",
    "plt.title('Vivo 37C \\n (N='+str(len(dplot.id.unique()))+')',fontsize = 16)\n",
    "plt.xlabel('Homogeneity',fontsize = 16) \n",
    "plt.ylabel('GC content',fontsize = 16)\n",
    "plt.xticks(fontsize = 14,rotation=90) \n",
    "plt.yticks(fontsize = 14) \n",
    "plt.ylim(0,60)\n",
    "plt.legend(loc='best', bbox_to_anchor=(1.01, 0.7),prop={'size': 12})\n",
    "ax.spines[['right', 'top']].set_visible(False) \n",
    "\n",
    "\n",
    "add_stat_annotation(ax, data=dplot, x='group',y='GC_window_seq', \n",
    "                    box_pairs = [(\"top 1/3\", \"bottom 1/3\")],\n",
    "                    comparisons_correction = None,\n",
    "                    test=\"Mann-Whitney\",text_format='full', loc='inside', line_offset_to_box=0.1, verbose=3) \n",
    "\n",
    "dir_out = '/home/han/proj_het_AC/rerun_analysis/0_Manuscript_codes_submission_20250723/Figure3/Data/'\n",
    "plt.savefig(dir_out+'Fig3e_vivo_GC_37C.pdf',bbox_inches='tight', dpi=300) "
   ]
  },
  {
   "cell_type": "code",
   "execution_count": null,
   "metadata": {},
   "outputs": [],
   "source": []
  }
 ],
 "metadata": {
  "kernelspec": {
   "display_name": "gis",
   "language": "python",
   "name": "python3"
  },
  "language_info": {
   "codemirror_mode": {
    "name": "ipython",
    "version": 3
   },
   "file_extension": ".py",
   "mimetype": "text/x-python",
   "name": "python",
   "nbconvert_exporter": "python",
   "pygments_lexer": "ipython3",
   "version": "3.9.6"
  }
 },
 "nbformat": 4,
 "nbformat_minor": 2
}
