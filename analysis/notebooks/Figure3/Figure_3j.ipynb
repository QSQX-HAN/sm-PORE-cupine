{
 "cells": [
  {
   "cell_type": "code",
   "execution_count": 50,
   "metadata": {},
   "outputs": [],
   "source": [
    "\n",
    "## decay vs gini index "
   ]
  },
  {
   "cell_type": "code",
   "execution_count": 6,
   "metadata": {},
   "outputs": [],
   "source": [
    "import pandas as pd\n",
    "import numpy as np\n",
    "import matplotlib.pyplot as plt \n",
    "import seaborn as sns\n",
    "from statannot import add_stat_annotation "
   ]
  },
  {
   "cell_type": "code",
   "execution_count": null,
   "metadata": {},
   "outputs": [],
   "source": [
    "## 1. Fig3j --- ----"
   ]
  },
  {
   "cell_type": "code",
   "execution_count": 7,
   "metadata": {},
   "outputs": [],
   "source": [
    "# produce gini index--\n",
    "\n",
    "def gini_vector(arr):\n",
    "    # arr = arr.to_numpy()\n",
    "    arr = np.array(arr.dropna())\n",
    "    # arr = np.array(arr)\n",
    "    # first sort\n",
    "    sorted_arr = arr.copy()\n",
    "    sorted_arr.sort()\n",
    "    n = arr.size\n",
    "    if n == 0:\n",
    "        return np.nan\n",
    "    coef_ = 2. / n\n",
    "    const_ = (n + 1.) / n\n",
    "    weighted_sum = sum([(i+1)*yi for i, yi in enumerate(sorted_arr)])\n",
    "    return coef_*weighted_sum/(sorted_arr.sum()) - const_"
   ]
  },
  {
   "cell_type": "code",
   "execution_count": 8,
   "metadata": {},
   "outputs": [
    {
     "name": "stderr",
     "output_type": "stream",
     "text": [
      "/tmp/ipykernel_16608/125205900.py:3: FutureWarning: In a future version of pandas all arguments of StringMethods.split except for the argument 'pat' will be keyword-only.\n",
      "  decay[['transcript','gene']] = decay['Name'].str.split('::',1,expand = True)\n",
      "/tmp/ipykernel_16608/125205900.py:12: FutureWarning: In a future version of pandas all arguments of StringMethods.split except for the argument 'pat' will be keyword-only.\n",
      "  aver[['gene','window_start','window_end']] = aver['idd'].str.split('_',2,expand = True)\n"
     ]
    },
    {
     "name": "stderr",
     "output_type": "stream",
     "text": [
      "/tmp/ipykernel_16608/125205900.py:20: FutureWarning: In a future version of pandas all arguments of StringMethods.split except for the argument 'pat' will be keyword-only.\n",
      "  gini[['Name','window']] =  gini['idd'].str.split('_',1,expand = True)\n",
      "No artists with labels found to put in legend.  Note that artists whose label start with an underscore are ignored when legend() is called with no argument.\n"
     ]
    },
    {
     "name": "stdout",
     "output_type": "stream",
     "text": [
      ">=60(mins)    937\n",
      "<60(mins)     149\n",
      "Name: halflife_30C, dtype: int64\n",
      ">=60(mins)    937\n",
      "<60(mins)     149\n",
      "Name: halflife_30C, dtype: int64\n",
      "1086\n",
      "<60(mins) v.s. >=60(mins): Mann-Whitney-Wilcoxon test smaller, P_val=1.492e-03 U_stat=5.970e+02\n"
     ]
    },
    {
     "data": {
      "image/png": "[encoded data removed]",
      "text/plain": [
       "<Figure size 259.2x360 with 1 Axes>"
      ]
     },
     "metadata": {
      "needs_background": "light"
     },
     "output_type": "display_data"
    }
   ],
   "source": [
    "out = '/home/han/proj_het_AC/rerun_analysis/0_Manuscript_codes_submission_20250723/Figure3/Data/'\n",
    "decay=pd.read_csv(out+'final_30C_37C_classify_fast_vs_slower_allinfo',sep='\\t')\n",
    "decay[['transcript','gene']] = decay['Name'].str.split('::',1,expand = True)\n",
    "\n",
    "dir1 = '/home/han/proj_het_AC/rerun_analysis/0_Manuscript_codes_submission_20250723/Figure3/Data/'\n",
    "mod1 = pd.read_csv(dir1+'mod_rate_all_30C.txt', header=None,sep='\\t')\n",
    "mod1.columns = ['position', 'mut', 'coverage','mutrate','temp','region','id','idd','rep']\n",
    "mod1['id_pos'] = mod1['id'] + ':' + mod1['position'].astype(str)\n",
    "\n",
    "aver = mod1.groupby([ 'idd', 'region','position'])['mutrate'].mean()\n",
    "aver = aver.reset_index()\n",
    "aver[['gene','window_start','window_end']] = aver['idd'].str.split('_',2,expand = True)\n",
    "mod1=aver\n",
    "\n",
    "mod1.index = mod1.idd\n",
    "mod1 = mod1.drop('idd', axis=1)\n",
    "mod1 = mod1[['mutrate']]\n",
    "gini = mod1.dropna(subset=[\"mutrate\"]).groupby(\"idd\").apply(lambda x: x.apply(gini_vector,axis=0)) # apply gini vector column wise\n",
    "gini = gini.reset_index()\n",
    "gini[['Name','window']] =  gini['idd'].str.split('_',1,expand = True)\n",
    "gini.columns = ['idd', 'gini_index', 'Name', 'window']\n",
    "\n",
    "\n",
    "gini_gene = gini\n",
    "\n",
    "### C. merge decay and gini index  \n",
    "\n",
    "merge = pd.merge(decay,gini_gene,how='outer',on=['Name','Name'])\n",
    "merge['halflife_30C'] = merge['halflife_x']\n",
    "dplot = merge\n",
    "dplot['halflife_30C'] = np.where((dplot['halflife_30C'] == '20.0') | (dplot['halflife_30C'] == '40.0'), '<60(mins)', dplot['halflife_30C'])\n",
    "dplot['halflife_30C'] = np.where((dplot['halflife_30C'] == '60.0') | (dplot['halflife_30C'] == '120.0') | (dplot['halflife_30C'] == '>120'), '>=60(mins)', dplot['halflife_30C'])\n",
    "print(dplot.halflife_30C.value_counts())\n",
    "\n",
    "\n",
    "### D. plot gini index \n",
    "\n",
    "print(dplot.halflife_30C.value_counts())\n",
    "flt = dplot[dplot['halflife_30C'].notnull()]\n",
    "print(flt.shape[0]) \n",
    "\n",
    "plt.figure(figsize=(3.6,5))\n",
    "\n",
    "order = ['<60(mins)','>=60(mins)']\n",
    "ax = sns.boxplot(data=dplot, x='halflife_30C',y='gini_index',order = order, showfliers = False, dodge=False)  # order = order\n",
    "plt.title('Vivo 30C',fontsize = 16)\n",
    "plt.xlabel('Decay',fontsize = 16) \n",
    "plt.ylabel('Gini index',fontsize = 16)\n",
    "plt.xticks(fontsize = 14,rotation=90) \n",
    "plt.yticks(fontsize = 14) \n",
    "plt.legend(loc='best', bbox_to_anchor=(1.01, 0.7),prop={'size': 12})\n",
    "ax.spines[['right', 'top']].set_visible(False) \n",
    "\n",
    "add_stat_annotation(ax, data=dplot, x='halflife_30C',y='gini_index',\n",
    "                    box_pairs = [('<60(mins)','>=60(mins)')],\n",
    "                    comparisons_correction = None,\n",
    "                    test=\"Mann-Whitney-ls\",text_format='full', loc='inside', line_offset_to_box=0.1, verbose=3)  \n",
    "\n",
    "dir_out = '/home/han/proj_het_AC/rerun_analysis/0_Manuscript_codes_submission_20250723/Figure3/Data/'\n",
    "plt.savefig(dir_out+'Fig3j_vivo_30C_gini_index.pdf',bbox_inches='tight', dpi=300)"
   ]
  },
  {
   "cell_type": "code",
   "execution_count": 60,
   "metadata": {},
   "outputs": [],
   "source": [
    "### gini 37C ---"
   ]
  },
  {
   "cell_type": "code",
   "execution_count": 9,
   "metadata": {},
   "outputs": [
    {
     "name": "stderr",
     "output_type": "stream",
     "text": [
      "/tmp/ipykernel_16608/1299655253.py:8: FutureWarning: In a future version of pandas all arguments of StringMethods.split except for the argument 'pat' will be keyword-only.\n",
      "  aver[['gene','window_start','window_end']] = aver['idd'].str.split('_',2,expand = True)\n",
      "/tmp/ipykernel_16608/1299655253.py:16: FutureWarning: In a future version of pandas all arguments of StringMethods.split except for the argument 'pat' will be keyword-only.\n",
      "  gini[['Name','window']] =  gini['idd'].str.split('_',1,expand = True)\n",
      "No artists with labels found to put in legend.  Note that artists whose label start with an underscore are ignored when legend() is called with no argument.\n"
     ]
    },
    {
     "name": "stdout",
     "output_type": "stream",
     "text": [
      ">=60(mins)    1239\n",
      "<60(mins)     1004\n",
      "Name: halflife_37C, dtype: int64\n",
      ">=60(mins)    1239\n",
      "<60(mins)     1004\n",
      "Name: halflife_37C, dtype: int64\n",
      "2243\n",
      "<60(mins) v.s. >=60(mins): Mann-Whitney-Wilcoxon test smaller, P_val=1.084e-04 U_stat=6.480e+03\n"
     ]
    },
    {
     "data": {
      "image/png": "[encoded data removed]",
      "text/plain": [
       "<Figure size 259.2x360 with 1 Axes>"
      ]
     },
     "metadata": {
      "needs_background": "light"
     },
     "output_type": "display_data"
    }
   ],
   "source": [
    "dir1 = '/home/han/proj_het_AC/rerun_analysis/0_Manuscript_codes_submission_20250723/Figure3/Data/'\n",
    "mod1 = pd.read_csv(dir1+'mod_rate_all_37C.txt', header=None,sep='\\t')\n",
    "mod1.columns = ['position', 'mut', 'coverage','mutrate','temp','region','id','idd','rep']\n",
    "mod1['id_pos'] = mod1['id'] + ':' + mod1['position'].astype(str)\n",
    "\n",
    "aver = mod1.groupby([ 'idd', 'region','position'])['mutrate'].mean()\n",
    "aver = aver.reset_index()\n",
    "aver[['gene','window_start','window_end']] = aver['idd'].str.split('_',2,expand = True)\n",
    "mod1=aver\n",
    "\n",
    "mod1.index = mod1.idd\n",
    "mod1 = mod1.drop('idd', axis=1)\n",
    "mod1 = mod1[['mutrate']]\n",
    "gini = mod1.dropna(subset=[\"mutrate\"]).groupby(\"idd\").apply(lambda x: x.apply(gini_vector,axis=0)) # apply gini vector column wise\n",
    "gini = gini.reset_index()\n",
    "gini[['Name','window']] =  gini['idd'].str.split('_',1,expand = True)\n",
    "gini.columns = ['idd', 'gini_index', 'Name', 'window']\n",
    "gini_gene = gini\n",
    "\n",
    "merge = pd.merge(decay,gini_gene,how='left',on=['Name','Name'])\n",
    "merge['halflife_37C'] = merge['halflife_y']\n",
    "dplot = merge\n",
    "dplot['halflife_37C'] = np.where((dplot['halflife_37C'] == '20.0') | (dplot['halflife_37C'] == '40.0'), '<60(mins)', dplot['halflife_37C'])\n",
    "dplot['halflife_37C'] = np.where((dplot['halflife_37C'] == '60.0') | (dplot['halflife_37C'] == '120.0') | (dplot['halflife_37C'] == '>120'), '>=60(mins)', dplot['halflife_37C'])\n",
    "print(dplot.halflife_37C.value_counts())\n",
    "\n",
    "\n",
    "### plot gini index \n",
    "\n",
    "print(dplot.halflife_37C.value_counts())\n",
    "flt = dplot[dplot['halflife_37C'].notnull()]\n",
    "print(flt.shape[0]) \n",
    "\n",
    "plt.figure(figsize=(3.6,5))\n",
    "\n",
    "order = ['<60(mins)','>=60(mins)']\n",
    "ax = sns.boxplot(data=dplot, x='halflife_37C',y='gini_index',order = order, showfliers = False, dodge=False)  \n",
    "plt.title('Vivo 37C',fontsize = 16)\n",
    "plt.xlabel('Decay',fontsize = 16) \n",
    "plt.ylabel('Gini index',fontsize = 16)\n",
    "plt.xticks(fontsize = 14,rotation=90) \n",
    "plt.yticks(fontsize = 14) \n",
    "plt.legend(loc='best', bbox_to_anchor=(1.01, 0.7),prop={'size': 12})\n",
    "ax.spines[['right', 'top']].set_visible(False) \n",
    "\n",
    "add_stat_annotation(ax, data=dplot, x='halflife_37C',y='gini_index',\n",
    "                    box_pairs = [('<60(mins)','>=60(mins)')],\n",
    "                    comparisons_correction = None,\n",
    "                    test=\"Mann-Whitney-ls\",text_format='full', loc='inside', line_offset_to_box=0.1, verbose=3)  \n",
    "\n",
    "dir_out = '/home/han/proj_het_AC/rerun_analysis/0_Manuscript_codes_submission_20250723/Figure3/Data/'\n",
    "plt.savefig(dir_out+'Fig3j_vivo_37C_gini_index.pdf',bbox_inches='tight', dpi=300)"
   ]
  },
  {
   "cell_type": "code",
   "execution_count": null,
   "metadata": {},
   "outputs": [],
   "source": []
  }
 ],
 "metadata": {
  "kernelspec": {
   "display_name": "gis",
   "language": "python",
   "name": "python3"
  },
  "language_info": {
   "codemirror_mode": {
    "name": "ipython",
    "version": 3
   },
   "file_extension": ".py",
   "mimetype": "text/x-python",
   "name": "python",
   "nbconvert_exporter": "python",
   "pygments_lexer": "ipython3",
   "version": "3.9.6"
  }
 },
 "nbformat": 4,
 "nbformat_minor": 2
}
