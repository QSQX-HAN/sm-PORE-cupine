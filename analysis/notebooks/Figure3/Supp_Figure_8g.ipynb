{
 "cells": [
  {
   "cell_type": "code",
   "execution_count": null,
   "metadata": {},
   "outputs": [],
   "source": [
    "# vitro detected transcripts"
   ]
  },
  {
   "cell_type": "code",
   "execution_count": 1,
   "metadata": {},
   "outputs": [],
   "source": [
    "import pandas as pd\n",
    "import numpy as np\n",
    "from collections import Counter\n",
    "from collections import OrderedDict\n",
    "import matplotlib.pyplot as plt"
   ]
  },
  {
   "cell_type": "code",
   "execution_count": null,
   "metadata": {},
   "outputs": [],
   "source": [
    "## 1. vitro types -------------------\n",
    "## 1. vitro types -------------------"
   ]
  },
  {
   "cell_type": "code",
   "execution_count": 2,
   "metadata": {},
   "outputs": [
    {
     "name": "stdout",
     "output_type": "stream",
     "text": [
      "351\n"
     ]
    }
   ],
   "source": [
    "inter_vitro = pd.read_csv('/home/han/proj_het_AC/rerun_analysis/0_Manuscript_codes_submission_20250723/Figure3/Data/abundance_both_cutoff_0.04_intersect_1DMSO_DMSO200_overlap_vitro.txt',sep=\"\\t\")\n",
    "p_new_chroms = list(inter_vitro.gene)\n",
    "print(len(p_new_chroms))\n",
    "\n",
    "accepted_categories = (\"mRNA\", \"ncRNA\", \"pseudogene\", \"rRNA\", \"snRNA\", \"snoRNA\", \"tRNA\")\n",
    "\n",
    "dict_biotype = {}\n",
    "dict_biotype_by_id = {}\n",
    "\n",
    "f_gff = \"/home/han/proj_het_AC/rerun_analysis/0_Manuscript_codes_submission_20250723/Figure3/Data/C_albicans_SC5314_A21_current_features.gff\"\n",
    "with open(f_gff, \"r\") as f:\n",
    "    for line in f:\n",
    "        if line.startswith(\"#\"):\n",
    "            continue\n",
    "\n",
    "        row = line.strip(\"\\r\\n\").split(\"\\t\")\n",
    "        if (\"Gene=\" in row[8]) and (row[2] in accepted_categories):\n",
    "            metadata = [ (entry.split(\"=\")[0], entry.split(\"=\")[1]) for entry in row[8].split(\";\") ]\n",
    "            dict_metadata = dict(metadata)\n",
    "\n",
    "            try:\n",
    "                gname = dict_metadata[\"Gene\"]\n",
    "                gid = dict_metadata[\"ID\"].split(\"-\")[0]\n",
    "                biotype = row[2]\n",
    "\n",
    "                dict_biotype[gname] = biotype\n",
    "                dict_biotype_by_id[gid] = biotype\n",
    "            except KeyError:\n",
    "                print(line)\n",
    "                assert False\n",
    "\n",
    "missed = 0\n",
    "tabulate = []\n",
    "for p_new_chrom in p_new_chroms:\n",
    "    try:\n",
    "        biotype = dict_biotype[p_new_chrom.split(\"::\")[1]]\n",
    "        tabulate.append(biotype)\n",
    "    except KeyError:  #check whether we can identify by id\n",
    "        try:\n",
    "            biotype = dict_biotype_by_id[p_new_chrom.split(\"::\")[1][::-2]]\n",
    "            tabulate.append(biotype)\n",
    "        except KeyError:\n",
    "            tabulate.append(\"Unknown\")\n"
   ]
  },
  {
   "cell_type": "code",
   "execution_count": 3,
   "metadata": {},
   "outputs": [
    {
     "data": {
      "image/png": "[encoded data removed]",
      "text/plain": [
       "<Figure size 600x400 with 1 Axes>"
      ]
     },
     "metadata": {},
     "output_type": "display_data"
    }
   ],
   "source": [
    "colours = { \n",
    "            \"mRNA\\n(n=%s)\" % Counter(tabulate)[\"mRNA\"]: 'orange',\n",
    "            \"Unknown\\n(n=%s)\" % Counter(tabulate)[\"Unknown\"]: 'lightblue'\n",
    "          }\n",
    "\n",
    "labels = [\"mRNA\\n(n=%s)\" % Counter(tabulate)[\"mRNA\"], \"Unknown\\n(n=%s)\" % Counter(tabulate)[\"Unknown\"]]\n",
    "subcolors = {a:colours[a] for a in labels if a in colours}\n",
    "explode = (0.0, 0.0)\n",
    "\n",
    "fig, ax = plt.subplots(dpi=100)\n",
    "ax.pie([232, 42], explode=explode, labels=labels, autopct=\"%1.1f%%\", colors=[subcolors[key] for key in labels], startangle=90)\n",
    "\n",
    "#dir_out = '/home/han/proj_het_AC/notebooks_20240220_updated/output/'\n",
    "#fig.savefig(dir_out+'Fig3c_transcripts_biotypes.pdf',bbox_inches='tight')\n",
    "\n",
    "dir_out = '/home/han/proj_het_AC/rerun_analysis/0_Manuscript_codes_submission_20250723/Figure3/Data/'\n",
    "plt.savefig(dir_out+'Supp_Fig8g_vitro_transcripts_types.pdf',bbox_inches='tight', dpi=300) "
   ]
  },
  {
   "cell_type": "code",
   "execution_count": null,
   "metadata": {},
   "outputs": [],
   "source": [
    "## 2. vitro region ------------------------------\n",
    "## 2. vitro region ------------------------------"
   ]
  },
  {
   "cell_type": "code",
   "execution_count": 4,
   "metadata": {},
   "outputs": [],
   "source": [
    "def get_sizes(f_sizes):\n",
    "    dict_sizes = {}\n",
    "    with open(f_sizes, \"r\") as f:\n",
    "        for line in f:\n",
    "            row = line.strip(\"\\r\\n\").split(\"\\t\")\n",
    "            chrom, size = row[0], int(row[1])\n",
    "            dict_sizes[chrom] = size\n",
    "    return dict_sizes\n",
    "\n",
    "\n",
    "def parse_annotations(f_annotations):\n",
    "    dict_annotations = {}\n",
    "    with open(f_annotations, \"r\") as f:\n",
    "        for no, line in enumerate(f):\n",
    "            if no == 0:\n",
    "                continue\n",
    "            row = line.strip(\"\\r\\n\").split(\"\\t\")\n",
    "            chrom, tx_start, utr_five, utr_three, tx_end = row[0], int(row[1]), int(row[2]), int(row[3]), int(row[4])\n",
    "            #if utr_five < 0:\n",
    "            #    utr_five = 0\n",
    "            dict_annotations[chrom] = {\"tx_start\": tx_start, \"5utr\": utr_five, \"3utr\": utr_three, \"tx_end\": tx_end}\n",
    "\n",
    "    return dict_annotations"
   ]
  },
  {
   "cell_type": "code",
   "execution_count": 5,
   "metadata": {},
   "outputs": [
    {
     "name": "stdout",
     "output_type": "stream",
     "text": [
      "[ 7.77200676 80.90917052 11.31882271]\n"
     ]
    },
    {
     "data": {
      "image/png": "[encoded data removed]",
      "text/plain": [
       "<Figure size 600x400 with 1 Axes>"
      ]
     },
     "metadata": {},
     "output_type": "display_data"
    }
   ],
   "source": [
    "f_dir = \"/home/han/proj_het_AC/rerun_analysis/0_Manuscript_codes_submission_20250723/Figure3/Data/\"\n",
    "\n",
    "f_bigWigs = [\"%s/modrate_30C_100mM_NAIN3.bigWig\" % f_dir, \n",
    "             \"%s/modrate_30Cto37C_100mM_NAIN3.bigWig\" % f_dir,\n",
    "             \"%s/modrate_30C-IVT_100mM_NAIN3.bigWig\" % f_dir, \n",
    "             \"%s/modrate_37C-IVT_100mM_NAIN3.bigWig\" % f_dir]\n",
    "\n",
    "f_annotations = \"/home/han/proj_het_AC/rerun_analysis/0_Manuscript_codes_submission_20250723/Figure3/Data/bruno_et_al_2010_tx_loci.annotation\"\n",
    "f_sizes = \"/home/han/proj_het_AC/rerun_analysis/0_Manuscript_codes_submission_20250723/Figure3/Data/bruno_et_al_2010_tx_loci.sizes\" \n",
    "\n",
    "dict_sizes = get_sizes(f_sizes)\n",
    "dict_annotations = parse_annotations(f_annotations)\n",
    "\n",
    "total_region_of_selected_chroms = np.array([0, 0, 0])\n",
    "for p_chrom in p_new_chroms:\n",
    "\n",
    "    try:\n",
    "        utr_five_pos = dict_annotations[p_chrom][\"5utr\"]\n",
    "        utr_three_pos = dict_annotations[p_chrom][\"3utr\"]\n",
    "    except KeyError:\n",
    "        continue\n",
    "\n",
    "    total_region_of_selected_chroms[0] += utr_five_pos\n",
    "    total_region_of_selected_chroms[1] += (utr_three_pos - utr_five_pos + 1)\n",
    "    total_region_of_selected_chroms[2] += (dict_sizes[p_chrom] - utr_three_pos + 1)\n",
    "\n",
    "print((total_region_of_selected_chroms/total_region_of_selected_chroms.sum())*100)\n",
    "\n",
    "\n",
    "labels = [\"5'UTR\\n(n=%s)\" % (total_region_of_selected_chroms[0]), \"CDS\\n(n=%s)\" % (total_region_of_selected_chroms[1]), \"3'UTR\\n(n=%s)\" % (total_region_of_selected_chroms[2])]\n",
    "explode = (0.0, 0.0, 0.1)\n",
    "\n",
    "fig, ax = plt.subplots(dpi=100)\n",
    "ax.pie(total_region_of_selected_chroms, explode=explode, labels=labels, autopct=\"%1.1f%%\", startangle=90)\n",
    "\n",
    "dir_out = '/home/han/proj_het_AC/rerun_analysis/0_revision_v1_20250220/2_Fig5_candida_issues/Manuscript_Fig5_sFig7/Figures_PDF/'\n",
    "plt.savefig(dir_out+'Supp_Fig8g_vitro_transcripts_regions.pdf',bbox_inches='tight', dpi=300) \n"
   ]
  },
  {
   "cell_type": "code",
   "execution_count": null,
   "metadata": {},
   "outputs": [],
   "source": []
  }
 ],
 "metadata": {
  "kernelspec": {
   "display_name": "gis",
   "language": "python",
   "name": "python3"
  },
  "language_info": {
   "codemirror_mode": {
    "name": "ipython",
    "version": 3
   },
   "file_extension": ".py",
   "mimetype": "text/x-python",
   "name": "python",
   "nbconvert_exporter": "python",
   "pygments_lexer": "ipython3",
   "version": "3.9.6"
  }
 },
 "nbformat": 4,
 "nbformat_minor": 2
}
