{
 "cells": [
  {
   "cell_type": "code",
   "execution_count": 15,
   "metadata": {},
   "outputs": [],
   "source": [
    "# TE plots"
   ]
  },
  {
   "cell_type": "code",
   "execution_count": 2,
   "metadata": {},
   "outputs": [],
   "source": [
    "import pandas as pd\n",
    "import matplotlib.pyplot as plt \n",
    "from statannot import add_stat_annotation \n",
    "import seaborn as sns"
   ]
  },
  {
   "cell_type": "code",
   "execution_count": null,
   "metadata": {},
   "outputs": [],
   "source": [
    "## 1. Fig 3h --- ---"
   ]
  },
  {
   "cell_type": "code",
   "execution_count": 3,
   "metadata": {},
   "outputs": [
    {
     "name": "stdout",
     "output_type": "stream",
     "text": [
      "(1459, 15)\n"
     ]
    },
    {
     "name": "stderr",
     "output_type": "stream",
     "text": [
      "/tmp/ipykernel_15320/925124934.py:22: FutureWarning: In a future version of pandas all arguments of StringMethods.split except for the argument 'pat' will be keyword-only.\n",
      "  aver[['gene','window_start','window_end']] = aver['id'].str.split('_',2,expand = True)\n",
      "/tmp/ipykernel_15320/925124934.py:37: FutureWarning: In a future version of pandas all arguments of StringMethods.split except for the argument 'pat' will be keyword-only.\n",
      "  dplot1[['transcript','Gene name']] = dplot1['gene'].str.split('::',1,expand = True)\n"
     ]
    }
   ],
   "source": [
    "original_seq_df = pd.read_csv('/home/han/proj_het_AC/rerun_analysis/0_Manuscript_codes_submission_20250723/Figure3/Data/bruno_et_al_2010_tx_loci.txt',sep='\\t')\n",
    "f_annotations = \"/home/han/proj_het_AC/rerun_analysis/0_Manuscript_codes_submission_20250723/Figure3/Data/bruno_et_al_2010_tx_loci.annotation\"\n",
    "annotation = pd.read_csv(f_annotations,sep='\\t')\n",
    "df = pd.merge(original_seq_df, annotation,how='left',on=['gene','gene'])\n",
    "\n",
    "### pure condition\n",
    "dir = '/home/han/proj_het_AC/rerun_analysis/0_Manuscript_codes_submission_20250723/Figure3/Data/'\n",
    "pure = pd.read_csv(dir+'homo_pure_allinfo_vivo.txt', sep='\\t')\n",
    "pure.columns \n",
    "pure=pure.dropna()\n",
    "pure['weighted_corr'] = pd.to_numeric(pure['weighted_corr'], errors='coerce')\n",
    "pure['replicate'] = pd.to_numeric(pure['replicate'], errors='coerce')\n",
    "pure['window_start'] = pd.to_numeric(pure['window_start'], errors='coerce')\n",
    "pure['window_end'] = pd.to_numeric(pure['window_end'], errors='coerce')\n",
    "pure['window_start'] = pure['window_start'].astype(int)\n",
    "pure['window_end'] = pure['window_end'].astype(int)\n",
    "pure['win_length'] = pure['window_end'].astype(int) - pure['window_start'].astype(int)\n",
    "pure['id'] = pure['gene'] + '_' + pure['window_start'].astype(str)  + '_' + pure['window_end'].astype(str)\n",
    "pure = pure[(pure['replicate'] == 0) | (pure['replicate'] == 1) | (pure['replicate'] == 2)]\n",
    "aver = pure.groupby(['condition', 'id', 'region'])['weighted_corr'].mean()\n",
    "aver = aver.reset_index()\n",
    "aver[['gene','window_start','window_end']] = aver['id'].str.split('_',2,expand = True)\n",
    "pure=aver\n",
    "\n",
    "combine = pd.merge(pure,df,how='left',on=['gene','gene']) \n",
    "dplot = combine.drop_duplicates()\n",
    "dplot = dplot.dropna()\n",
    "dplot = dplot.drop_duplicates()\n",
    "\n",
    "dplot = dplot.sort_values(by='gene')\n",
    "dplot['window_pos'] = (dplot['window_start'].astype(int)+dplot['window_end'].astype(int))/2\n",
    "dplot = dplot[dplot['region'] == 'CDS'] \n",
    "print(dplot.shape)\n",
    "\n",
    "### all the plots \n",
    "dplot1 = dplot\n",
    "dplot1[['transcript','Gene name']] = dplot1['gene'].str.split('::',1,expand = True)\n",
    "### TE\n",
    "TE = pd.read_csv('/home/han/proj_het_AC/rerun_analysis/0_Manuscript_codes_submission_20250723/Figure3/Data/TE_all_paper_1.csv',sep=',')\n",
    "TE.columns\n",
    "TE = TE[['Gene name','S. cerevisiae ortholog', 'Gene Ribo 30C average TPM  ',\n",
    "       'Gene Ribo 37C + serum  average TPM  ', 'Gene RNA 30C average TPM  ',\n",
    "       'Gene RNA 37C + serum  average TPM ', '30TE', '37TE', '37/30 TE']]\n",
    "\n",
    "### merge with TE\n",
    "merge = pd.merge(dplot1,TE,how='left',left_on=['Gene name'], right_on=['Gene name'])"
   ]
  },
  {
   "cell_type": "code",
   "execution_count": 4,
   "metadata": {},
   "outputs": [
    {
     "name": "stderr",
     "output_type": "stream",
     "text": [
      "/tmp/ipykernel_15320/3948701421.py:4: SettingWithCopyWarning: \n",
      "A value is trying to be set on a copy of a slice from a DataFrame.\n",
      "Try using .loc[row_indexer,col_indexer] = value instead\n",
      "\n",
      "See the caveats in the documentation: https://pandas.pydata.org/pandas-docs/stable/user_guide/indexing.html#returning-a-view-versus-a-copy\n",
      "  flt['30TE'] = flt['30TE'].astype(float)\n",
      "/tmp/ipykernel_15320/3948701421.py:11: SettingWithCopyWarning: \n",
      "A value is trying to be set on a copy of a slice from a DataFrame.\n",
      "Try using .loc[row_indexer,col_indexer] = value instead\n",
      "\n",
      "See the caveats in the documentation: https://pandas.pydata.org/pandas-docs/stable/user_guide/indexing.html#returning-a-view-versus-a-copy\n",
      "  flt_top['quant'] = 'top1/3 TE in 30C'\n",
      "/tmp/ipykernel_15320/3948701421.py:13: SettingWithCopyWarning: \n",
      "A value is trying to be set on a copy of a slice from a DataFrame.\n",
      "Try using .loc[row_indexer,col_indexer] = value instead\n",
      "\n",
      "See the caveats in the documentation: https://pandas.pydata.org/pandas-docs/stable/user_guide/indexing.html#returning-a-view-versus-a-copy\n",
      "  flt_bottom['quant'] = 'bottom1/3 TE in 30C'\n",
      "/tmp/ipykernel_15320/3948701421.py:22: SettingWithCopyWarning: \n",
      "A value is trying to be set on a copy of a slice from a DataFrame.\n",
      "Try using .loc[row_indexer,col_indexer] = value instead\n",
      "\n",
      "See the caveats in the documentation: https://pandas.pydata.org/pandas-docs/stable/user_guide/indexing.html#returning-a-view-versus-a-copy\n",
      "  flt['37TE'] = flt['37TE'].astype(float)\n",
      "/tmp/ipykernel_15320/3948701421.py:29: SettingWithCopyWarning: \n",
      "A value is trying to be set on a copy of a slice from a DataFrame.\n",
      "Try using .loc[row_indexer,col_indexer] = value instead\n",
      "\n",
      "See the caveats in the documentation: https://pandas.pydata.org/pandas-docs/stable/user_guide/indexing.html#returning-a-view-versus-a-copy\n",
      "  flt_top['quant'] = 'top1/3 TE in 37C'\n",
      "/tmp/ipykernel_15320/3948701421.py:31: SettingWithCopyWarning: \n",
      "A value is trying to be set on a copy of a slice from a DataFrame.\n",
      "Try using .loc[row_indexer,col_indexer] = value instead\n",
      "\n",
      "See the caveats in the documentation: https://pandas.pydata.org/pandas-docs/stable/user_guide/indexing.html#returning-a-view-versus-a-copy\n",
      "  flt_bottom['quant'] = 'bottom1/3 TE in 37C'\n"
     ]
    },
    {
     "name": "stdout",
     "output_type": "stream",
     "text": [
      "CDS    410\n",
      "Name: region, dtype: int64\n",
      "CDS    470\n",
      "Name: region, dtype: int64\n",
      "top1/3 TE in 30C v.s. bottom1/3 TE in 30C: Mann-Whitney-Wilcoxon test two-sided, P_val=9.515e-01 U_stat=2.094e+04\n",
      "top1/3 TE in 37C v.s. bottom1/3 TE in 37C: Mann-Whitney-Wilcoxon test two-sided, P_val=8.516e-02 U_stat=3.015e+04\n"
     ]
    },
    {
     "data": {
      "image/png": "[encoded data removed]",
      "text/plain": [
       "<Figure size 216x432 with 1 Axes>"
      ]
     },
     "metadata": {
      "needs_background": "light"
     },
     "output_type": "display_data"
    }
   ],
   "source": [
    "### 30C\n",
    "\n",
    "flt = merge[merge['condition'] == '30C']\n",
    "flt['30TE'] = flt['30TE'].astype(float)\n",
    "\n",
    "flt = flt.sort_values(by=['30TE'])\n",
    "diff_top = flt['30TE'].quantile(q=2/3)\n",
    "diff_bottom = flt['30TE'].quantile(q=1/3)\n",
    "\n",
    "flt_top = flt[flt['30TE'] >=diff_top]\n",
    "flt_top['quant'] = 'top1/3 TE in 30C'\n",
    "flt_bottom = flt[flt['30TE'] <=diff_bottom]\n",
    "flt_bottom['quant'] = 'bottom1/3 TE in 30C'\n",
    "\n",
    "flt_extre = pd.concat([flt_top,flt_bottom])\n",
    "dplot_30C = flt_extre\n",
    "print(flt_extre['region'].value_counts())\n",
    "\n",
    "\n",
    "### 37C\n",
    "flt = merge[merge['condition'] == '37C']\n",
    "flt['37TE'] = flt['37TE'].astype(float)\n",
    "\n",
    "flt = flt.sort_values(by=['37TE'])\n",
    "diff_top = flt['37TE'].quantile(q=2/3)\n",
    "diff_bottom = flt['37TE'].quantile(q=1/3)\n",
    "\n",
    "flt_top = flt[flt['37TE'] >=diff_top]\n",
    "flt_top['quant'] = 'top1/3 TE in 37C'\n",
    "flt_bottom = flt[flt['37TE'] <=diff_bottom]\n",
    "flt_bottom['quant'] = 'bottom1/3 TE in 37C'\n",
    "\n",
    "flt_extre = pd.concat([flt_top,flt_bottom])\n",
    "dplot_37C = flt_extre\n",
    "print(flt_extre['region'].value_counts())\n",
    "\n",
    "combine = pd.concat([dplot_30C,dplot_37C])\n",
    "combine_flt = combine[combine['region'] =='CDS']\n",
    "\n",
    "combine_flt.columns\n",
    "dplot = combine_flt\n",
    "\n",
    "\n",
    "plt.figure(figsize=(3,6))\n",
    "\n",
    "ax = sns.boxplot(data=dplot, x='quant',y='weighted_corr', hue='condition', showfliers = False, dodge=False)  # order = order\n",
    "\n",
    "plt.title('Vivo CDS \\n 30C vs 37C',fontsize = 18)\n",
    "plt.xlabel('',fontsize = 16) \n",
    "plt.ylabel('Homogeneity',fontsize = 16)\n",
    "plt.xticks(fontsize = 14,rotation=90) \n",
    "plt.yticks(fontsize = 14) \n",
    "plt.ylim(0.4,1.2)\n",
    "plt.legend(loc='best', bbox_to_anchor=(1.5, 0.7),prop={'size': 12})\n",
    "ax.spines[['right', 'top']].set_visible(False) \n",
    "\n",
    "add_stat_annotation(ax, data = dplot, x = dplot['quant'], y = dplot['weighted_corr'], \n",
    "                    box_pairs = [(\"top1/3 TE in 30C\", \"bottom1/3 TE in 30C\"), (\"top1/3 TE in 37C\", \"bottom1/3 TE in 37C\")\n",
    "                                \n",
    "                                 ],\n",
    "                    \n",
    "                    comparisons_correction = None,\n",
    "                    test=\"Mann-Whitney\", text_format='full', loc='inside', line_offset_to_box=0.1, verbose=3)  #line_offset_to_box=-0.001,\n",
    "\n",
    "dir_out = '/home/han/proj_het_AC/rerun_analysis/0_Manuscript_codes_submission_20250723/Figure3/Data/'\n",
    "plt.savefig(dir_out+'Fig3h_TE_CDS_homo.pdf',bbox_inches='tight', dpi=300) "
   ]
  },
  {
   "cell_type": "code",
   "execution_count": null,
   "metadata": {},
   "outputs": [],
   "source": []
  }
 ],
 "metadata": {
  "kernelspec": {
   "display_name": "gis",
   "language": "python",
   "name": "python3"
  },
  "language_info": {
   "codemirror_mode": {
    "name": "ipython",
    "version": 3
   },
   "file_extension": ".py",
   "mimetype": "text/x-python",
   "name": "python",
   "nbconvert_exporter": "python",
   "pygments_lexer": "ipython3",
   "version": "3.9.6"
  }
 },
 "nbformat": 4,
 "nbformat_minor": 2
}
