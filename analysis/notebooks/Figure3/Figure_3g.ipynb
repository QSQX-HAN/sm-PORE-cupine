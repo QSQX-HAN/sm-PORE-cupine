{
 "cells": [
  {
   "cell_type": "code",
   "execution_count": null,
   "metadata": {},
   "outputs": [],
   "source": [
    "# windows analysis "
   ]
  },
  {
   "cell_type": "code",
   "execution_count": 4,
   "metadata": {},
   "outputs": [],
   "source": [
    "import pandas as pd\n",
    "import matplotlib.pyplot as plt \n",
    "import seaborn as sns\n",
    "from statannot import add_stat_annotation "
   ]
  },
  {
   "cell_type": "code",
   "execution_count": null,
   "metadata": {},
   "outputs": [],
   "source": [
    "## 1. Fig 3g --- --- "
   ]
  },
  {
   "cell_type": "code",
   "execution_count": 6,
   "metadata": {},
   "outputs": [
    {
     "name": "stdout",
     "output_type": "stream",
     "text": [
      "['orf19.6265.1::RPS14B', 'orf19.3415.1::RPL32', 'orf19.7600::FDH3', 'orf19.3590::IPP1', 'orf19.5928::RPP2B', 'orf19.7043.1::ACB1', 'orf19.5854::SBP1', 'orf19.1409.1::orf19.1409.1', 'orf19.6375::RPS20', 'orf19.2877::PDC11', 'orf19.4490::RPL17B', 'orf19.5927::RPS15', 'orf19.7611::TRX1', 'orf19.2803::HEM13', 'orf19.3942.1::RPL43A', 'orf19.804.1::orf19.804.1', 'orf19.1635::RPL12', 'orf19.6882.1::orf19.6882.1', 'orf19.2329.1::RPS17B', 'orf19.5213.1::COX8', 'orf19.2107.1::STF2', 'orf19.3223::ATP3', 'orf19.1467::COX13', 'orf19.382::TEF2', 'orf19.3575::CDC19', 'orf19.1700::RPS7A', 'orf19.6264.4::orf19.6264.4', 'orf19.5660.1::orf19.5660.1', 'orf19.3003.1::RPL6', 'orf19.827.1::RPL39', 'orf19.903::GPM1', 'orf19.1470::RPS26A', 'orf19.3888::PGI1', 'orf19.4660::RPS6A', 'orf19.6403.1::RPP2A', 'orf19.5341::RPS4A', 'orf19.3572.3::orf19.3572.3', 'orf19.5964.2::RPL35', 'orf19.3334::RPS21', 'orf19.2864.1::RPL28', 'orf19.7018::RPS18', 'orf19.2111.2::RPL38', 'orf19.3465::RPL10A', 'orf19.1435::TEF1', 'orf19.3264.1::orf19.3264.1', 'orf19.1601::RPL3', 'orf19.493::RPL15A', 'orf19.6085::RPL16A', 'orf19.6906::ASC1', 'orf19.4375.1::RPS30', 'orf19.2478.1::orf19.2478.1', 'orf19.6253::RPS23A', 'orf19.840::RPL21A', 'orf19.3707::YHB1', 'orf19.2994::RPL13', 'orf19.3651::PGK1', 'orf19.7048.1::RPS28B', 'orf19.687.1::RPL25', 'orf19.4371::TAL1', 'orf19.5114.1::orf19.5114.1', 'orf19.6002::RPL8B', 'orf19.3325.3::RPS21B', 'orf19.4193.1::RPS13', 'orf19.3997::ADH1', 'orf19.2309.2::RPL2', 'orf19.5285::PST3', 'orf19.3002::RPS1', 'orf19.5996.1::RPS19A', 'orf19.2232::RPL11', 'orf19.227::COX7', 'orf19.3294::MBF1', 'orf19.5982::RPL18', 'orf19.4931.1::RPL14', 'orf19.3788.1::RPL30', 'orf19.3822::SCS7', 'orf19.6286.2::RPS27', 'orf19.930::PET9', 'orf19.4759::COX5', 'orf19.1354::UCF1', 'orf19.1854::HHF22', 'orf19.1052::orf19.1052', 'orf19.4909.1::RPL42', 'orf19.5788::EFT2', 'orf19.7188::RPP1B', 'orf19.3053::orf19.3053', 'orf19.1471::COX4', 'orf19.3087::UBI3', 'orf19.4336::RPS5', 'orf19.1061::HHT21', 'orf19.1051::HTA2', 'orf19.2992::RPP1A', 'orf19.2179.2::RPS10', 'orf19.3967::PFK1', 'orf19.667.1::RPL37B', 'orf19.6814::TDH3', 'orf19.1105.2::PGA56', 'orf19.5904::RPL19A', 'orf19.6663::RPS25B', 'orf19.3268::TMA19', 'orf19.6975::YST1', 'orf19.5437::RHR2', 'orf19.5213.2::COX9', 'orf19.4632::RPL20B', 'orf19.1154::EGD1', 'orf19.2994.1::RPS16A', 'orf19.2310.1::RPL29', 'orf19.236::RPL9B', 'orf19.2023::HGT7', 'orf19.542::HXK2', 'orf19.5653::ATP2', 'orf19.6541::RPL5', 'orf19.4311::YNK1', 'orf19.6785::RPS12', 'orf19.5007::ACT1', 'orf19.3426::ANB1', 'orf19.5225.2::RPL27A', 'orf19.6540::PFK2', 'orf19.6873::RPS8A', 'orf19.406::ERG1', 'orf19.6472::CYP1', 'orf19.3789::RPL24A', 'orf19.5201.1::orf19.5201.1', 'orf19.4684.2::RPL40B', 'orf19.6220.4::orf19.6220.4', 'orf19.6415.1::orf19.6415.1', 'orf19.395::ENO1', 'orf19.3690.2::orf19.3690.2', 'orf19.2767::PGA59', 'orf19.3504::RPL23A']\n",
      "129\n",
      "37C_CDS v.s. 37C_3UTR: Mann-Whitney-Wilcoxon test two-sided, P_val=4.133e-02 U_stat=5.149e+03\n",
      "30C_CDS v.s. 30C_3UTR: Mann-Whitney-Wilcoxon test two-sided, P_val=1.935e-03 U_stat=4.641e+03\n"
     ]
    },
    {
     "data": {
      "image/png": "[encoded data removed]",
      "text/plain": [
       "<Figure size 216x432 with 1 Axes>"
      ]
     },
     "metadata": {
      "needs_background": "light"
     },
     "output_type": "display_data"
    }
   ],
   "source": [
    "dir = '/home/han/proj_het_AC/rerun_analysis/0_Manuscript_codes_submission_20250723/Figure3/Data/'\n",
    "pure = pd.read_csv(dir+'vivo_pure_allinfo_CDS_UTR.txt', sep='\\t')\n",
    "pure.columns \n",
    "pure=pure.dropna()\n",
    "pure['weighted_corr'] = pd.to_numeric(pure['weighted_corr'], errors='coerce')\n",
    "pure['window_start'] = pd.to_numeric(pure['window_start'], errors='coerce')\n",
    "pure['window_end'] = pd.to_numeric(pure['window_end'], errors='coerce')\n",
    "pure['window_start'] = pure['window_start'].astype(int)\n",
    "pure['window_end'] = pure['window_end'].astype(int)\n",
    "pure['win_length'] = pure['window_end'].astype(int) - pure['window_start'].astype(int)\n",
    "pure['id'] = pure['gene'] + '_' + pure['window_start'].astype(str)  + '_' + pure['window_end'].astype(str)\n",
    "\n",
    "dir = '/home/han/proj_het_AC/rerun_analysis/0_Manuscript_codes_submission_20250723/Figure3/Data/'\n",
    "win = pd.read_csv(dir+'vivo_pure_3UTR_CDS_1st_window.txt',sep='\\t')\n",
    "win['id'] = win['gene'] + '_' + win['start'].astype(str)  + '_' + win['end'].astype(str)\n",
    "\n",
    "pure_flt = pure[pure['id'].isin(list(win.id))]\n",
    "tmp1 = pure_flt[pure_flt['condition'] == '30C']\n",
    "tmp1_cds = tmp1[tmp1['region'] == 'CDS']   \n",
    "tmp1_utr = tmp1[tmp1['region'] == '3UTR']  \n",
    "common_30C = list(set(list(tmp1_cds.gene)) &  set(list(tmp1_utr.gene)))\n",
    "\n",
    "tmp2 = pure_flt[pure_flt['condition'] == '37C']\n",
    "tmp2_cds = tmp2[tmp2['region'] == 'CDS']   \n",
    "tmp2_utr = tmp2[tmp2['region'] == '3UTR']  \n",
    "common_37C = list(set(list(tmp2_cds.gene)) &  set(list(tmp2_utr.gene)))\n",
    "\n",
    "common_all = list(set(common_30C) & set(common_37C))\n",
    "print(common_all)\n",
    "print(len(common_all))\n",
    "\n",
    "dplot = pure_flt[(pure_flt['condition'] == '30C') | (pure_flt['condition'] == '37C')]\n",
    "dplot = dplot[dplot['gene'].isin(common_all)]\n",
    "\n",
    "\n",
    "dplott = dplot[dplot['win_length'] == 100]\n",
    "\n",
    "### plot---------------------------\n",
    "\n",
    "plt.figure(figsize=(3,6))\n",
    "\n",
    "ax = sns.boxplot(data=dplott, x='condition',y='weighted_corr', hue='region', showfliers = False, dodge=True) \n",
    "plt.title('Vivo \\n 30C vs 37C',fontsize = 18)\n",
    "plt.xlabel('',fontsize = 16) \n",
    "plt.ylabel('Homogeneity',fontsize = 16)\n",
    "plt.xticks(fontsize = 14,rotation=90) \n",
    "plt.yticks(fontsize = 14) \n",
    "plt.ylim(0.4,1.2)\n",
    "plt.legend(loc='best', bbox_to_anchor=(1.5, 0.7),prop={'size': 12})\n",
    "ax.spines[['right', 'top']].set_visible(False) \n",
    "\n",
    "\n",
    "add_stat_annotation(ax, data = dplott, x = dplott['condition'], y = dplott['weighted_corr'], hue='region',\n",
    "                    box_pairs = [((\"30C\", \"CDS\"), (\"30C\", \"3UTR\")), \n",
    "                                 ((\"37C\", \"CDS\"), (\"37C\", \"3UTR\"))\n",
    "                                 ],\n",
    "                    \n",
    "                    comparisons_correction = None,\n",
    "                    test=\"Mann-Whitney\", text_format='full', loc='inside', line_offset_to_box=0.1, verbose=3)  #line_offset_to_box=-0.001,\n",
    "\n",
    "dir_out = '/home/han/proj_het_AC/rerun_analysis/0_Manuscript_codes_submission_20250723/Figure3/Data/'\n",
    "plt.savefig(dir_out+'Fig3g_vivo_3UTR_CDS.pdf',bbox_inches='tight', dpi=300) "
   ]
  },
  {
   "cell_type": "code",
   "execution_count": null,
   "metadata": {},
   "outputs": [],
   "source": []
  }
 ],
 "metadata": {
  "kernelspec": {
   "display_name": "gis",
   "language": "python",
   "name": "python3"
  },
  "language_info": {
   "codemirror_mode": {
    "name": "ipython",
    "version": 3
   },
   "file_extension": ".py",
   "mimetype": "text/x-python",
   "name": "python",
   "nbconvert_exporter": "python",
   "pygments_lexer": "ipython3",
   "version": "3.9.6"
  }
 },
 "nbformat": 4,
 "nbformat_minor": 2
}
