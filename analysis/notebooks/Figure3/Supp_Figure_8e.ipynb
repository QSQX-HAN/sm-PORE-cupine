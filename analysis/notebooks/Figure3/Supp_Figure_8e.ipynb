{
 "cells": [
  {
   "cell_type": "code",
   "execution_count": 50,
   "metadata": {},
   "outputs": [],
   "source": [
    "\n",
    "## decay vs mod rate "
   ]
  },
  {
   "cell_type": "code",
   "execution_count": 1,
   "metadata": {},
   "outputs": [],
   "source": [
    "import pandas as pd\n",
    "import numpy as np\n",
    "import matplotlib.pyplot as plt \n",
    "import seaborn as sns\n",
    "from statannot import add_stat_annotation "
   ]
  },
  {
   "cell_type": "code",
   "execution_count": 53,
   "metadata": {},
   "outputs": [],
   "source": [
    "## 1. Supp_Fig8e--- ----"
   ]
  },
  {
   "cell_type": "code",
   "execution_count": 2,
   "metadata": {},
   "outputs": [
    {
     "name": "stderr",
     "output_type": "stream",
     "text": [
      "/tmp/ipykernel_20362/4251295922.py:3: FutureWarning: In a future version of pandas all arguments of StringMethods.split except for the argument 'pat' will be keyword-only.\n",
      "  decay[['transcript','gene']] = decay['Name'].str.split('::',1,expand = True)\n"
     ]
    }
   ],
   "source": [
    "out = '/home/han/proj_het_AC/rerun_analysis/0_Manuscript_codes_submission_20250723/Figure3/Data/'\n",
    "decay=pd.read_csv(out+'final_30C_37C_classify_fast_vs_slower_allinfo',sep='\\t')\n",
    "decay[['transcript','gene']] = decay['Name'].str.split('::',1,expand = True)"
   ]
  },
  {
   "cell_type": "code",
   "execution_count": 3,
   "metadata": {},
   "outputs": [
    {
     "name": "stderr",
     "output_type": "stream",
     "text": [
      "/tmp/ipykernel_20362/1366586277.py:8: FutureWarning: In a future version of pandas all arguments of StringMethods.split except for the argument 'pat' will be keyword-only.\n",
      "  aver[['gene','window_start','window_end']] = aver['idd'].str.split('_',2,expand = True)\n",
      "No artists with labels found to put in legend.  Note that artists whose label start with an underscore are ignored when legend() is called with no argument.\n"
     ]
    },
    {
     "name": "stdout",
     "output_type": "stream",
     "text": [
      ">=60(mins)    3135\n",
      "<60(mins)     2575\n",
      "Name: halflife_30C, dtype: int64\n",
      ">=60(mins)    3135\n",
      "<60(mins)     2575\n",
      "Name: halflife_30C, dtype: int64\n",
      "5710\n",
      "<60(mins) v.s. >=60(mins): Mann-Whitney-Wilcoxon test greater, P_val=2.477e-12 U_stat=3.090e+06\n"
     ]
    },
    {
     "data": {
      "image/png": "[encoded data removed]",
      "text/plain": [
       "<Figure size 259.2x360 with 1 Axes>"
      ]
     },
     "metadata": {
      "needs_background": "light"
     },
     "output_type": "display_data"
    }
   ],
   "source": [
    "dir1 = '/home/han/proj_het_AC/rerun_analysis/0_Manuscript_codes_submission_20250723/Figure3/Data/'\n",
    "mod1 = pd.read_csv(dir1+'mod_rate_all_30C.txt', header=None,sep='\\t')\n",
    "mod1.columns = ['position', 'mut', 'coverage','mutrate','temp','region','id','idd','rep']\n",
    "mod1['id_pos'] = mod1['id'] + ':' + mod1['position'].astype(str)\n",
    "\n",
    "aver = mod1.groupby([ 'idd', 'region','position'])['mutrate'].mean()\n",
    "aver = aver.reset_index()\n",
    "aver[['gene','window_start','window_end']] = aver['idd'].str.split('_',2,expand = True)\n",
    "mod1=aver\n",
    "mod1['Name'] = mod1['gene'] \n",
    "\n",
    "### merge decay and gini index  \n",
    "\n",
    "merge = pd.merge(decay,mod1,how='left',on=['Name','Name'])\n",
    "merge['halflife_30C'] = merge['halflife_x']\n",
    "dplot = merge\n",
    "dplot['halflife_30C'] = np.where((dplot['halflife_30C'] == '20.0') | (dplot['halflife_30C'] == '40.0'), '<60(mins)', dplot['halflife_30C'])\n",
    "dplot['halflife_30C'] = np.where((dplot['halflife_30C'] == '60.0') | (dplot['halflife_30C'] == '120.0') | (dplot['halflife_30C'] == '>120'), '>=60(mins)', dplot['halflife_30C'])\n",
    "print(dplot.halflife_30C.value_counts())\n",
    "\n",
    "\n",
    "### plot mutation rate \n",
    "\n",
    "print(dplot.halflife_30C.value_counts())\n",
    "flt = dplot[dplot['halflife_30C'].notnull()]\n",
    "print(flt.shape[0]) \n",
    "\n",
    "plt.figure(figsize=(3.6,5))\n",
    "\n",
    "order = ['<60(mins)','>=60(mins)']\n",
    "ax = sns.boxplot(data=dplot, x='halflife_30C',y='mutrate',order = order, showfliers = False, dodge=False)  \n",
    "plt.title('Vivo 30C',fontsize = 16)\n",
    "plt.xlabel('Decay',fontsize = 16) \n",
    "plt.ylabel('Mod rate',fontsize = 16)\n",
    "plt.xticks(fontsize = 14,rotation=90) \n",
    "plt.yticks(fontsize = 14) \n",
    "plt.ylim(-0.01,0.1)\n",
    "plt.legend(loc='best', bbox_to_anchor=(1.01, 0.7),prop={'size': 12})\n",
    "ax.spines[['right', 'top']].set_visible(False) \n",
    "\n",
    "add_stat_annotation(ax, data=dplot, x='halflife_30C',y='mutrate',\n",
    "                    box_pairs = [('<60(mins)','>=60(mins)')],\n",
    "                    comparisons_correction = None,\n",
    "                    test=\"Mann-Whitney-gt\",text_format='full', loc='outside', line_offset_to_box=0.1, verbose=3)  \n",
    "\n",
    "dir_out = '/home/han/proj_het_AC/rerun_analysis/0_Manuscript_codes_submission_20250723/Figure3/Data/'\n",
    "plt.savefig(dir_out+'supp_Fig8e_vivo_30C_mod_rate.pdf',bbox_inches='tight', dpi=300)"
   ]
  },
  {
   "cell_type": "code",
   "execution_count": 4,
   "metadata": {},
   "outputs": [
    {
     "name": "stderr",
     "output_type": "stream",
     "text": [
      "/tmp/ipykernel_20362/978604284.py:8: FutureWarning: In a future version of pandas all arguments of StringMethods.split except for the argument 'pat' will be keyword-only.\n",
      "  aver[['gene','window_start','window_end']] = aver['idd'].str.split('_',2,expand = True)\n",
      "No artists with labels found to put in legend.  Note that artists whose label start with an underscore are ignored when legend() is called with no argument.\n"
     ]
    },
    {
     "name": "stdout",
     "output_type": "stream",
     "text": [
      "<60(mins)     27144\n",
      ">=60(mins)     3664\n",
      "Name: halflife_37C, dtype: int64\n",
      "<60(mins)     27144\n",
      ">=60(mins)     3664\n",
      "Name: halflife_37C, dtype: int64\n",
      "30808\n",
      "<60(mins) v.s. >=60(mins): Mann-Whitney-Wilcoxon test greater, P_val=4.442e-39 U_stat=3.805e+07\n"
     ]
    },
    {
     "data": {
      "image/png": "[encoded data removed]",
      "text/plain": [
       "<Figure size 259.2x360 with 1 Axes>"
      ]
     },
     "metadata": {
      "needs_background": "light"
     },
     "output_type": "display_data"
    }
   ],
   "source": [
    "dir1 = '/home/han/proj_het_AC/rerun_analysis/0_Manuscript_codes_submission_20250723/Figure3/Data/'\n",
    "mod1 = pd.read_csv(dir1+'mod_rate_all_37C.txt', header=None,sep='\\t')\n",
    "mod1.columns = ['position', 'mut', 'coverage','mutrate','temp','region','id','idd','rep']\n",
    "mod1['id_pos'] = mod1['id'] + ':' + mod1['position'].astype(str)\n",
    "\n",
    "aver = mod1.groupby([ 'idd', 'region','position'])['mutrate'].mean()\n",
    "aver = aver.reset_index()\n",
    "aver[['gene','window_start','window_end']] = aver['idd'].str.split('_',2,expand = True)\n",
    "mod1=aver\n",
    "mod1['Name'] = mod1['gene'] \n",
    "\n",
    "### merge decay and gini index  \n",
    "\n",
    "merge = pd.merge(decay,mod1,how='left',on=['Name','Name'])\n",
    "merge['halflife_37C'] = merge['halflife_y']\n",
    "dplot = merge\n",
    "dplot['halflife_37C'] = np.where((dplot['halflife_37C'] == '20.0') | (dplot['halflife_37C'] == '40.0'), '<60(mins)', dplot['halflife_37C'])\n",
    "dplot['halflife_37C'] = np.where((dplot['halflife_37C'] == '60.0') | (dplot['halflife_37C'] == '120.0') | (dplot['halflife_37C'] == '>120'), '>=60(mins)', dplot['halflife_37C'])\n",
    "print(dplot.halflife_37C.value_counts())\n",
    "\n",
    "\n",
    "### plot mutation rate \n",
    "\n",
    "print(dplot.halflife_37C.value_counts())\n",
    "flt = dplot[dplot['halflife_37C'].notnull()]\n",
    "print(flt.shape[0]) \n",
    "\n",
    "plt.figure(figsize=(3.6,5))\n",
    "\n",
    "order = ['<60(mins)','>=60(mins)']\n",
    "ax = sns.boxplot(data=dplot, x='halflife_37C',y='mutrate',order = order, showfliers = False, dodge=False)  # order = order\n",
    "plt.title('Vivo 37C',fontsize = 16)\n",
    "plt.xlabel('Decay',fontsize = 16) \n",
    "plt.ylabel('Mod rate',fontsize = 16)\n",
    "plt.xticks(fontsize = 14,rotation=90) \n",
    "plt.yticks(fontsize = 14) \n",
    "plt.ylim(-0.01,0.1)\n",
    "plt.legend(loc='best', bbox_to_anchor=(1.01, 0.7),prop={'size': 12})\n",
    "ax.spines[['right', 'top']].set_visible(False) \n",
    "\n",
    "add_stat_annotation(ax, data=dplot, x='halflife_37C',y='mutrate',\n",
    "                    box_pairs = [('<60(mins)','>=60(mins)')],\n",
    "                    comparisons_correction = None,\n",
    "                    test=\"Mann-Whitney-gt\",text_format='full', loc='outside', line_offset_to_box=0.1, verbose=3)  \n",
    "\n",
    "dir_out = '/home/han/proj_het_AC/rerun_analysis/0_Manuscript_codes_submission_20250723/Figure3/Data/'\n",
    "plt.savefig(dir_out+'supp_Fig8e_vivo_37C_mod_rate.pdf',bbox_inches='tight', dpi=300)"
   ]
  },
  {
   "cell_type": "code",
   "execution_count": null,
   "metadata": {},
   "outputs": [],
   "source": []
  }
 ],
 "metadata": {
  "kernelspec": {
   "display_name": "gis",
   "language": "python",
   "name": "python3"
  },
  "language_info": {
   "codemirror_mode": {
    "name": "ipython",
    "version": 3
   },
   "file_extension": ".py",
   "mimetype": "text/x-python",
   "name": "python",
   "nbconvert_exporter": "python",
   "pygments_lexer": "ipython3",
   "version": "3.9.6"
  }
 },
 "nbformat": 4,
 "nbformat_minor": 2
}
