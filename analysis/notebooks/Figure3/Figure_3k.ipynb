{
 "cells": [
  {
   "cell_type": "code",
   "execution_count": 1,
   "metadata": {},
   "outputs": [],
   "source": [
    "\n",
    "## decay vs homogeneiety combine score "
   ]
  },
  {
   "cell_type": "code",
   "execution_count": 1,
   "metadata": {},
   "outputs": [],
   "source": [
    "import pandas as pd\n",
    "import numpy as np\n",
    "import matplotlib.pyplot as plt \n",
    "import seaborn as sns\n",
    "from statannot import add_stat_annotation "
   ]
  },
  {
   "cell_type": "code",
   "execution_count": null,
   "metadata": {},
   "outputs": [],
   "source": [
    "## 1. Fig3k --- ---"
   ]
  },
  {
   "cell_type": "code",
   "execution_count": 2,
   "metadata": {},
   "outputs": [
    {
     "name": "stderr",
     "output_type": "stream",
     "text": [
      "/tmp/ipykernel_18067/3674466577.py:3: FutureWarning: In a future version of pandas all arguments of StringMethods.split except for the argument 'pat' will be keyword-only.\n",
      "  decay[['transcript','gene']] = decay['Name'].str.split('::',1,expand = True)\n"
     ]
    },
    {
     "name": "stdout",
     "output_type": "stream",
     "text": [
      "Index(['condition', 'id', 'region', 'weighted_corr', 'gene_x', 'window_start',\n",
      "       'window_end', 'Unnamed: 0_x', 'seq', 'tx_start', 'cds_start', 'cds_end',\n",
      "       'tx_end', 'strand', 'Name', 'Unnamed: 0_y', 'label_x', 'step0_x',\n",
      "       'group_x', 'halflife_x', 'condition_x', 'cluster_x', 'label_y',\n",
      "       'step0_y', 'group_y', 'halflife_y', 'condition_y', 'cluster_y', 'difff',\n",
      "       'cluster30_cluster37', 'fast_slow_37', 'transcript', 'gene_y',\n",
      "       'halflife'],\n",
      "      dtype='object')\n",
      "Index(['condition', 'id', 'region', 'weighted_corr', 'gene_x', 'window_start',\n",
      "       'window_end', 'Unnamed: 0_x', 'seq', 'tx_start', 'cds_start', 'cds_end',\n",
      "       'tx_end', 'strand', 'Name', 'Unnamed: 0_y', 'label_x', 'step0_x',\n",
      "       'group_x', 'halflife_x', 'condition_x', 'cluster_x', 'label_y',\n",
      "       'step0_y', 'group_y', 'halflife_y', 'condition_y', 'cluster_y', 'difff',\n",
      "       'cluster30_cluster37', 'fast_slow_37', 'transcript', 'gene_y',\n",
      "       'halflife'],\n",
      "      dtype='object')\n",
      "Index(['condition', 'id', 'region', 'weighted_corr', 'gene_x', 'window_start',\n",
      "       'window_end', 'Unnamed: 0_x', 'seq', 'tx_start', 'cds_start', 'cds_end',\n",
      "       'tx_end', 'strand', 'Name', 'Unnamed: 0_y', 'label_x', 'step0_x',\n",
      "       'group_x', 'halflife_x', 'condition_x', 'cluster_x', 'label_y',\n",
      "       'step0_y', 'group_y', 'halflife_y', 'condition_y', 'cluster_y', 'difff',\n",
      "       'cluster30_cluster37', 'fast_slow_37', 'transcript', 'gene_y',\n",
      "       'halflife'],\n",
      "      dtype='object')\n"
     ]
    },
    {
     "name": "stderr",
     "output_type": "stream",
     "text": [
      "/tmp/ipykernel_18067/3674466577.py:26: FutureWarning: In a future version of pandas all arguments of StringMethods.split except for the argument 'pat' will be keyword-only.\n",
      "  aver[['gene','window_start','window_end']] = aver['id'].str.split('_',2,expand = True)\n"
     ]
    }
   ],
   "source": [
    "out = '/home/han/proj_het_AC/rerun_analysis/0_Manuscript_codes_submission_20250723/Figure3/Data/'\n",
    "decay=pd.read_csv(out+'final_30C_37C_classify_fast_vs_slower_allinfo',sep='\\t')\n",
    "decay[['transcript','gene']] = decay['Name'].str.split('::',1,expand = True)\n",
    "\n",
    "original_seq_df = pd.read_csv('/home/han/proj_het_AC/rerun_analysis/0_Manuscript_codes_submission_20250723/Figure3/Data/bruno_et_al_2010_tx_loci.txt',sep='\\t')\n",
    "f_annotations = \"/home/han/proj_het_AC/rerun_analysis/0_Manuscript_codes_submission_20250723/Figure3/Data/bruno_et_al_2010_tx_loci.annotation\"\n",
    "annotation = pd.read_csv(f_annotations,sep='\\t')\n",
    "df = pd.merge(original_seq_df, annotation,how='left',on=['gene','gene'])\n",
    "\n",
    "### pure condition\n",
    "dir = '/home/han/proj_het_AC/rerun_analysis/0_Manuscript_codes_submission_20250723/Figure3/Data/'\n",
    "pure = pd.read_csv(dir+'homo_pure_allinfo_vivo.txt', sep='\\t')\n",
    "pure.columns \n",
    "pure=pure.dropna()\n",
    "pure['weighted_corr'] = pd.to_numeric(pure['weighted_corr'], errors='coerce')\n",
    "pure['replicate'] = pd.to_numeric(pure['replicate'], errors='coerce')\n",
    "pure = pure[(pure['replicate'] == 0) | (pure['replicate'] == 1) | (pure['replicate'] == 2)]\n",
    "pure['window_start'] = pd.to_numeric(pure['window_start'], errors='coerce')\n",
    "pure['window_end'] = pd.to_numeric(pure['window_end'], errors='coerce')\n",
    "pure['window_start'] = pure['window_start'].astype(int)\n",
    "pure['window_end'] = pure['window_end'].astype(int)\n",
    "pure['win_length'] = pure['window_end'].astype(int) - pure['window_start'].astype(int)\n",
    "pure['id'] = pure['gene'] + '_' + pure['window_start'].astype(str)  + '_' + pure['window_end'].astype(str)\n",
    "aver = pure.groupby(['condition', 'id', 'region'])['weighted_corr'].mean()\n",
    "aver = aver.reset_index()\n",
    "aver[['gene','window_start','window_end']] = aver['id'].str.split('_',2,expand = True)\n",
    "pure=aver\n",
    "\n",
    "\n",
    "combine = pd.merge(pure,df,how='left',on=['gene','gene']) \n",
    "dplot = combine.drop_duplicates()\n",
    "dplot = dplot.dropna()\n",
    "\n",
    "dplot = dplot.sort_values(by='gene')\n",
    "dplot['Name'] = dplot['gene']\n",
    "dplot.columns\n",
    "\n",
    "### integrate homo with decay -------------------\n",
    "\n",
    "homo_30C = dplot[dplot['condition'] == '30C']\n",
    "homo_37C = dplot[dplot['condition'] == '37C']\n",
    "\n",
    "### merge with decay\n",
    "merge_30C = pd.merge(homo_30C,decay,how='left',on=['Name','Name'])\n",
    "merge_30C['halflife'] = merge_30C['halflife_x']\n",
    "merge_37C = pd.merge(homo_37C,decay,how='left',on=['Name','Name'])\n",
    "merge_37C['halflife'] = merge_37C['halflife_y']\n",
    "merge = pd.concat([merge_30C,merge_37C])\n",
    "merge['halflife'] = merge['halflife'].astype(str)\n",
    "\n",
    "print(merge_30C.columns)\n",
    "print(merge_37C.columns)\n",
    "print(merge.columns) "
   ]
  },
  {
   "cell_type": "code",
   "execution_count": 3,
   "metadata": {},
   "outputs": [
    {
     "name": "stderr",
     "output_type": "stream",
     "text": [
      "No artists with labels found to put in legend.  Note that artists whose label start with an underscore are ignored when legend() is called with no argument.\n"
     ]
    },
    {
     "name": "stdout",
     "output_type": "stream",
     "text": [
      ">120    36\n",
      "40.0    32\n",
      "20.0    19\n",
      "60.0     3\n",
      "Name: halflife, dtype: int64\n",
      "<60(mins)     51\n",
      ">=60(mins)    39\n",
      "Name: halflife, dtype: int64\n",
      "<60(mins) v.s. >=60(mins): Mann-Whitney-Wilcoxon test two-sided, P_val=6.367e-01 U_stat=9.360e+02\n"
     ]
    },
    {
     "data": {
      "image/png": "[encoded data removed]",
      "text/plain": [
       "<Figure size 360x432 with 1 Axes>"
      ]
     },
     "metadata": {
      "needs_background": "light"
     },
     "output_type": "display_data"
    }
   ],
   "source": [
    "### 30C ---\n",
    "\n",
    "print(merge_30C.halflife.value_counts())\n",
    "dplot = merge_30C[(merge_30C['region'] == '3UTR') | (merge_30C['region'] == 'CDS')]\n",
    "dplot['halflife'] = np.where((dplot['halflife'] == '20.0') | (dplot['halflife'] == '40.0'), '<60(mins)', dplot['halflife'])\n",
    "dplot['halflife'] = np.where((dplot['halflife'] == '60.0') | (dplot['halflife'] == '120.0') | (dplot['halflife'] == '>120'), '>=60(mins)', dplot['halflife'])\n",
    "print(dplot.halflife.value_counts())\n",
    "\n",
    "plt.figure(figsize=(5,6))\n",
    "order = ['<60(mins)','>=60(mins)']\n",
    "ax = sns.boxplot(data=dplot, x='halflife',y='weighted_corr', order = order, showfliers = False, dodge=False)  # order = order,  hue='condition',\n",
    "plt.title('Vivo  \\n 30C',fontsize = 18)\n",
    "plt.xlabel('',fontsize = 16) \n",
    "plt.ylabel('Homogeneity',fontsize = 16)\n",
    "plt.xticks(fontsize = 14,rotation=90) \n",
    "plt.yticks(fontsize = 14) \n",
    "plt.legend(loc='best', bbox_to_anchor=(1.01, 0.7),prop={'size': 12})\n",
    "ax.spines[['right', 'top']].set_visible(False) \n",
    "\n",
    "\n",
    "add_stat_annotation(ax, data = dplot, x='halflife',y='weighted_corr',order = order,\n",
    "                    box_pairs = [('<60(mins)','>=60(mins)')\n",
    "                                 ],\n",
    "                    comparisons_correction = None,\n",
    "                    test=\"Mann-Whitney\", text_format='full', loc='inside', line_offset_to_box=0.1, verbose=3)  #line_offset_to_box=-0.001,\n",
    "\n",
    "dir_out = '/home/han/proj_het_AC/rerun_analysis/0_Manuscript_codes_submission_20250723/Figure3/Data/'\n",
    "plt.savefig(dir_out+'Fig3k_vivo_30C_decay.pdf',bbox_inches='tight', dpi=300) \n"
   ]
  },
  {
   "cell_type": "code",
   "execution_count": 4,
   "metadata": {},
   "outputs": [
    {
     "name": "stderr",
     "output_type": "stream",
     "text": [
      "No artists with labels found to put in legend.  Note that artists whose label start with an underscore are ignored when legend() is called with no argument.\n"
     ]
    },
    {
     "name": "stdout",
     "output_type": "stream",
     "text": [
      "20.0     507\n",
      "40.0      48\n",
      ">120      31\n",
      "60.0       6\n",
      "120.0      3\n",
      "Name: halflife, dtype: int64\n",
      "<60(mins)     555\n",
      ">=60(mins)     40\n",
      "Name: halflife, dtype: int64\n",
      "<60(mins) v.s. >=60(mins): Mann-Whitney-Wilcoxon test two-sided, P_val=4.444e-02 U_stat=1.321e+04\n"
     ]
    },
    {
     "data": {
      "image/png": "[encoded data removed]",
      "text/plain": [
       "<Figure size 360x432 with 1 Axes>"
      ]
     },
     "metadata": {
      "needs_background": "light"
     },
     "output_type": "display_data"
    }
   ],
   "source": [
    "### 37C ---\n",
    "\n",
    "print(merge_37C.halflife.value_counts())\n",
    "dplot = merge_37C[(merge_37C['region'] == '3UTR') | (merge_37C['region'] == 'CDS')]\n",
    "dplot['halflife'] = np.where((dplot['halflife'] == '20.0') | (dplot['halflife'] == '40.0'), '<60(mins)', dplot['halflife'])\n",
    "dplot['halflife'] = np.where((dplot['halflife'] == '60.0') | (dplot['halflife'] == '120.0') | (dplot['halflife'] == '>120'), '>=60(mins)', dplot['halflife'])\n",
    "print(dplot.halflife.value_counts())\n",
    "\n",
    "plt.figure(figsize=(5,6))\n",
    "order = ['<60(mins)','>=60(mins)']\n",
    "ax = sns.boxplot(data=dplot, x='halflife',y='weighted_corr', order = order, showfliers = False, dodge=False)  \n",
    "plt.title('Vivo \\n 37C',fontsize = 18)\n",
    "plt.xlabel('',fontsize = 16) \n",
    "plt.ylabel('Homogeneity',fontsize = 16)\n",
    "plt.xticks(fontsize = 14,rotation=90) \n",
    "plt.yticks(fontsize = 14) \n",
    "plt.legend(loc='best', bbox_to_anchor=(1.01, 0.7),prop={'size': 12})\n",
    "ax.spines[['right', 'top']].set_visible(False) \n",
    "\n",
    "\n",
    "add_stat_annotation(ax, data = dplot, x='halflife',y='weighted_corr',order = order,\n",
    "                    box_pairs = [('<60(mins)','>=60(mins)')\n",
    "                                 ],\n",
    "                    comparisons_correction = None,\n",
    "                    test=\"Mann-Whitney\", text_format='full', loc='inside', line_offset_to_box=0.1, verbose=3) \n",
    "\n",
    "dir_out = '/home/han/proj_het_AC/rerun_analysis/0_Manuscript_codes_submission_20250723/Figure3/Data/'\n",
    "plt.savefig(dir_out+'Fig3k_vivo_37C_decay.pdf',bbox_inches='tight', dpi=300) "
   ]
  },
  {
   "cell_type": "code",
   "execution_count": null,
   "metadata": {},
   "outputs": [],
   "source": []
  }
 ],
 "metadata": {
  "kernelspec": {
   "display_name": "gis",
   "language": "python",
   "name": "python3"
  },
  "language_info": {
   "codemirror_mode": {
    "name": "ipython",
    "version": 3
   },
   "file_extension": ".py",
   "mimetype": "text/x-python",
   "name": "python",
   "nbconvert_exporter": "python",
   "pygments_lexer": "ipython3",
   "version": "3.9.6"
  }
 },
 "nbformat": 4,
 "nbformat_minor": 2
}
