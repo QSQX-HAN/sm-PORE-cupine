{
 "cells": [
  {
   "cell_type": "code",
   "execution_count": null,
   "metadata": {},
   "outputs": [],
   "source": [
    "# get the general statistics minimap2 + DTW ---\n"
   ]
  },
  {
   "cell_type": "code",
   "execution_count": 1,
   "metadata": {},
   "outputs": [],
   "source": [
    "import matplotlib.pyplot as plt\n",
    "import numpy as np\n",
    "import scipy.stats as spstats\n",
    "import seaborn as sns\n",
    "import pandas as pd\n",
    "from itertools import product\n",
    "from statannotations.Annotator import Annotator\n",
    "\n",
    "from proj_het.utils_io import load_data\n",
    "\n",
    "import matplotlib\n",
    "matplotlib.rcParams['pdf.fonttype'] = 42\n",
    "matplotlib.rcParams['ps.fonttype'] = 42\n",
    "\n",
    "prop_cycle = plt.rcParams['axes.prop_cycle']\n",
    "colors = prop_cycle.by_key()['color']\n",
    "\n",
    "altair_colors = [\"#4c78a8\", \"#f58518\", \"#e45756\", \"#72b7b2\", \"#54a24b\", \n",
    "                 \"#eeca3b\", \"#b279a2\", \"#ff9da6\", \"#9d755d\", \"#bab0ac\"]\n",
    "\n",
    "import numpy as np\n",
    "import pandas as pd\n",
    "import pickle as pkl\n",
    "import gzip\n",
    "import h5py\n",
    "import argparse\n",
    "import math\n",
    "from collections import OrderedDict, Counter "
   ]
  },
  {
   "cell_type": "code",
   "execution_count": 1,
   "metadata": {},
   "outputs": [],
   "source": [
    "import pandas as pd"
   ]
  },
  {
   "cell_type": "code",
   "execution_count": null,
   "metadata": {},
   "outputs": [],
   "source": [
    "## 1. Supp_Figure_8d --- --- "
   ]
  },
  {
   "cell_type": "code",
   "execution_count": 2,
   "metadata": {},
   "outputs": [],
   "source": [
    "samples = [\n",
    "            \"220908_30C_100mMNAIN3\", \n",
    "            \"221005_30C_100mMNAIN3_Rep2\", \n",
    "            \"221007_30C_100mMNAIN3_Rep2_2\", \n",
    "            \"221025_30C_100mMNAIN3_Rep2_3\",\n",
    "            \"221025_30C_100mMNAIN3_Rep2_4\", \n",
    "            \"221031_30C_100mMNAIN3_Rep1_2\",\n",
    "                        \n",
    "        \n",
    "            \"221005_30Cto37C_100mMNAIN3_Rep2\", \n",
    "            \"221010_30Cto37C_100mMNAIN3_Rep2_2\",\n",
    "            \"221027_30Cto37C_100mMNAIN3_Rep2_3\", \n",
    "            \"221027_30Cto37C_100mMNAIN3_Rep2_4\", \n",
    "            \"230109_30Cto37C_100mMNAIN3_Rep4_1\", \n",
    "            \"230109_30Cto37C_100mMNAIN3_Rep4_2\"\n",
    "         ] "
   ]
  },
  {
   "cell_type": "code",
   "execution_count": 4,
   "metadata": {},
   "outputs": [
    {
     "name": "stderr",
     "output_type": "stream",
     "text": [
      "/tmp/ipykernel_31716/1422754197.py:8: DtypeWarning: Columns (1,2,4,5,7,8,9,10,11) have mixed types. Specify dtype option on import or set low_memory=False.\n",
      "  df_final_alignment = pd.read_csv(f_final_alignment, sep=\"\\t\", index_col=0)\n"
     ]
    },
    {
     "name": "stdout",
     "output_type": "stream",
     "text": [
      "[1050691, 786432, 35827, 0.04555638631184896, '220908_30C_100mMNAIN3']\n"
     ]
    },
    {
     "name": "stderr",
     "output_type": "stream",
     "text": [
      "/tmp/ipykernel_31716/1422754197.py:8: DtypeWarning: Columns (1,2,4,5,7,8,9,10,11) have mixed types. Specify dtype option on import or set low_memory=False.\n",
      "  df_final_alignment = pd.read_csv(f_final_alignment, sep=\"\\t\", index_col=0)\n"
     ]
    },
    {
     "name": "stdout",
     "output_type": "stream",
     "text": [
      "[394413, 262144, 15754, 0.06009674072265625, '221005_30C_100mMNAIN3_Rep2']\n"
     ]
    },
    {
     "name": "stderr",
     "output_type": "stream",
     "text": [
      "/tmp/ipykernel_31716/1422754197.py:8: DtypeWarning: Columns (1,2,4,5,7,8,9,10,11) have mixed types. Specify dtype option on import or set low_memory=False.\n",
      "  df_final_alignment = pd.read_csv(f_final_alignment, sep=\"\\t\", index_col=0)\n"
     ]
    },
    {
     "name": "stdout",
     "output_type": "stream",
     "text": [
      "[648018, 458752, 26412, 0.05757359095982143, '221007_30C_100mMNAIN3_Rep2_2']\n"
     ]
    },
    {
     "name": "stderr",
     "output_type": "stream",
     "text": [
      "/tmp/ipykernel_31716/1422754197.py:8: DtypeWarning: Columns (1,2,4,5,7,8,9,10,11) have mixed types. Specify dtype option on import or set low_memory=False.\n",
      "  df_final_alignment = pd.read_csv(f_final_alignment, sep=\"\\t\", index_col=0)\n"
     ]
    },
    {
     "name": "stdout",
     "output_type": "stream",
     "text": [
      "[745320, 589824, 20263, 0.034354315863715276, '221025_30C_100mMNAIN3_Rep2_3']\n"
     ]
    },
    {
     "name": "stderr",
     "output_type": "stream",
     "text": [
      "/tmp/ipykernel_31716/1422754197.py:8: DtypeWarning: Columns (1,2,4,5,7,8,9,10,11) have mixed types. Specify dtype option on import or set low_memory=False.\n",
      "  df_final_alignment = pd.read_csv(f_final_alignment, sep=\"\\t\", index_col=0)\n"
     ]
    },
    {
     "name": "stdout",
     "output_type": "stream",
     "text": [
      "[766018, 589824, 23333, 0.039559258355034724, '221025_30C_100mMNAIN3_Rep2_4']\n"
     ]
    },
    {
     "name": "stderr",
     "output_type": "stream",
     "text": [
      "/tmp/ipykernel_31716/1422754197.py:8: DtypeWarning: Columns (1,2,4,5,7,8,9,10,11) have mixed types. Specify dtype option on import or set low_memory=False.\n",
      "  df_final_alignment = pd.read_csv(f_final_alignment, sep=\"\\t\", index_col=0)\n"
     ]
    },
    {
     "name": "stdout",
     "output_type": "stream",
     "text": [
      "[658356, 458752, 26606, 0.05799647739955357, '221031_30C_100mMNAIN3_Rep1_2']\n"
     ]
    },
    {
     "name": "stderr",
     "output_type": "stream",
     "text": [
      "/tmp/ipykernel_31716/1422754197.py:8: DtypeWarning: Columns (1,2,4,5,7,8,9,10,11) have mixed types. Specify dtype option on import or set low_memory=False.\n",
      "  df_final_alignment = pd.read_csv(f_final_alignment, sep=\"\\t\", index_col=0)\n"
     ]
    },
    {
     "name": "stdout",
     "output_type": "stream",
     "text": [
      "[1094417, 786432, 47209, 0.06002934773763021, '221005_30Cto37C_100mMNAIN3_Rep2']\n"
     ]
    },
    {
     "name": "stderr",
     "output_type": "stream",
     "text": [
      "/tmp/ipykernel_31716/1422754197.py:8: DtypeWarning: Columns (1,2,4,5,7,8,9,10,11) have mixed types. Specify dtype option on import or set low_memory=False.\n",
      "  df_final_alignment = pd.read_csv(f_final_alignment, sep=\"\\t\", index_col=0)\n"
     ]
    },
    {
     "name": "stdout",
     "output_type": "stream",
     "text": [
      "[932076, 655360, 39148, 0.059735107421875, '221010_30Cto37C_100mMNAIN3_Rep2_2']\n"
     ]
    },
    {
     "name": "stderr",
     "output_type": "stream",
     "text": [
      "/tmp/ipykernel_31716/1422754197.py:8: DtypeWarning: Columns (1,2,4,5,7,8,9,10,11) have mixed types. Specify dtype option on import or set low_memory=False.\n",
      "  df_final_alignment = pd.read_csv(f_final_alignment, sep=\"\\t\", index_col=0)\n"
     ]
    },
    {
     "name": "stdout",
     "output_type": "stream",
     "text": [
      "[703261, 524288, 22385, 0.04269599914550781, '221027_30Cto37C_100mMNAIN3_Rep2_3']\n"
     ]
    },
    {
     "name": "stderr",
     "output_type": "stream",
     "text": [
      "/tmp/ipykernel_31716/1422754197.py:8: DtypeWarning: Columns (1,2,4,5,7,8,9,10,11) have mixed types. Specify dtype option on import or set low_memory=False.\n",
      "  df_final_alignment = pd.read_csv(f_final_alignment, sep=\"\\t\", index_col=0)\n"
     ]
    },
    {
     "name": "stdout",
     "output_type": "stream",
     "text": [
      "[708210, 524288, 23213, 0.04427528381347656, '221027_30Cto37C_100mMNAIN3_Rep2_4']\n"
     ]
    },
    {
     "name": "stderr",
     "output_type": "stream",
     "text": [
      "/tmp/ipykernel_31716/1422754197.py:8: DtypeWarning: Columns (1,2,4,5,7,8,9,10,11) have mixed types. Specify dtype option on import or set low_memory=False.\n",
      "  df_final_alignment = pd.read_csv(f_final_alignment, sep=\"\\t\", index_col=0)\n"
     ]
    },
    {
     "name": "stdout",
     "output_type": "stream",
     "text": [
      "[1057809, 786432, 36230, 0.046068827311197914, '230109_30Cto37C_100mMNAIN3_Rep4_1']\n"
     ]
    },
    {
     "name": "stderr",
     "output_type": "stream",
     "text": [
      "/tmp/ipykernel_31716/1422754197.py:8: DtypeWarning: Columns (1,2,4,5,7,8,9,10,11) have mixed types. Specify dtype option on import or set low_memory=False.\n",
      "  df_final_alignment = pd.read_csv(f_final_alignment, sep=\"\\t\", index_col=0)\n"
     ]
    },
    {
     "name": "stdout",
     "output_type": "stream",
     "text": [
      "[1211568, 917504, 39135, 0.04265376499720982, '230109_30Cto37C_100mMNAIN3_Rep4_2']\n"
     ]
    }
   ],
   "source": [
    "summary = []\n",
    "\n",
    "for sample in samples: \n",
    "\n",
    "    dir = '/home/han/proj_het_AC/rerun_analysis/0_Manuscript_codes_submission_20250723/Supp_Fig8/Data/final_alignments_merge/'\n",
    "\n",
    "    f_final_alignment = dir + sample + '_final_alignment_merge.txt.gz'\n",
    "    df_final_alignment = pd.read_csv(f_final_alignment, sep=\"\\t\", index_col=0)\n",
    "    df_final_alignment['diff'] = pd.to_numeric(df_final_alignment['diff'], errors='coerce')\n",
    "\n",
    "    df_mm2 = df_final_alignment[(df_final_alignment[\"is_minimap2\"]==True)]\n",
    "    df_dtw = df_final_alignment[(df_final_alignment[\"is_minimap2\"]==False)&(df_final_alignment[\"diff\"]>=0.04)]\n",
    "\n",
    "    single = [df_final_alignment.shape[0],df_mm2.shape[0],df_dtw.shape[0],df_dtw.shape[0]/df_mm2.shape[0],sample]\n",
    "    print(single)\n",
    "    summary.append(single)"
   ]
  },
  {
   "cell_type": "code",
   "execution_count": null,
   "metadata": {},
   "outputs": [],
   "source": []
  },
  {
   "cell_type": "code",
   "execution_count": null,
   "metadata": {},
   "outputs": [],
   "source": []
  },
  {
   "cell_type": "code",
   "execution_count": null,
   "metadata": {},
   "outputs": [],
   "source": []
  },
  {
   "cell_type": "code",
   "execution_count": null,
   "metadata": {},
   "outputs": [],
   "source": []
  },
  {
   "cell_type": "code",
   "execution_count": 2,
   "metadata": {},
   "outputs": [],
   "source": [
    "metadata = [\n",
    "            \"220908_30C_100mMNAIN3\", \n",
    "            \"221005_30C_100mMNAIN3_Rep2\", \n",
    "            \"221007_30C_100mMNAIN3_Rep2_2\", \n",
    "            \"221025_30C_100mMNAIN3_Rep2_3\",\n",
    "            \"221025_30C_100mMNAIN3_Rep2_4\", \n",
    "            \"221031_30C_100mMNAIN3_Rep1_2\",\n",
    "                        \n",
    "        \n",
    "            \"221005_30Cto37C_100mMNAIN3_Rep2\", \n",
    "            \"221010_30Cto37C_100mMNAIN3_Rep2_2\",\n",
    "            \"221027_30Cto37C_100mMNAIN3_Rep2_3\", \n",
    "            \"221027_30Cto37C_100mMNAIN3_Rep2_4\", \n",
    "            \"230109_30Cto37C_100mMNAIN3_Rep4_1\", \n",
    "            \"230109_30Cto37C_100mMNAIN3_Rep4_2\", \n",
    "\n",
    "            \"230814_Candida_in_vitro_30C_100mMNAIN3_1\", \n",
    "            \"230814_Candida_in_vitro_30C_100mMNAIN3_2\", \n",
    "            \"230831_Candida_invitro_30C_100mMNAIN3_R2\", \n",
    "            \"230907_Candida_invitro_30C_100mMNAIN3_R2_2\", \n",
    "\n",
    "            \"230817_Candida_in_vitro_37C_100mMNAIN3_1\", \n",
    "            \"230817_Candida_in_vitro_37C_100mMNAIN3_2\", \n",
    "            \"230905_Candida_invitro_37C_100mMNAIN3_R2_2\", \n",
    "            \"230905_Candida_invitro_37C_100mMNAIN3_R2_3\"\n",
    "        ]\n",
    "\n",
    "samples = ['220908_30C_DMSO']"
   ]
  },
  {
   "cell_type": "code",
   "execution_count": 5,
   "metadata": {},
   "outputs": [
    {
     "name": "stdout",
     "output_type": "stream",
     "text": [
      "3262155\n",
      "Counter({True: 2921853, False: 340302})\n"
     ]
    }
   ],
   "source": [
    "for sample in samples:\n",
    "\n",
    "\n",
    "    dir = '/home/han/proj_het_AC/rerun_analysis/0_Manuscript_Figures_QC_20241126/3_candida/sequencing_summary/'\n",
    "    #sample = '230314_12RNAs_30As_50mMNAIN3_WTpool'\n",
    "    seqsum = pd.read_csv(dir+sample+'/sequencing_summary.txt',sep='\\t')\n",
    "    seqsum = seqsum[['read_id','passes_filtering']]\n",
    "    dict_list_of_reads = dict(seqsum[[\"read_id\", \"passes_filtering\"]].values.tolist())\n",
    "\n",
    "    print(len(dict_list_of_reads.keys()))\n",
    "    print(Counter(dict_list_of_reads.values()))"
   ]
  },
  {
   "cell_type": "code",
   "execution_count": 18,
   "metadata": {},
   "outputs": [],
   "source": [
    "metadata = [\n",
    "            \"230814_Candida_in_vitro_30C_100mMNAIN3_1\", \n",
    "            \"230814_Candida_in_vitro_30C_100mMNAIN3_2\", \n",
    "            \"230831_Candida_invitro_30C_100mMNAIN3_R2\", \n",
    "            \"230907_Candida_invitro_30C_100mMNAIN3_R2_2\", \n",
    "\n",
    "            \"230817_Candida_in_vitro_37C_100mMNAIN3_1\", \n",
    "            \"230817_Candida_in_vitro_37C_100mMNAIN3_2\", \n",
    "            \"230905_Candida_invitro_37C_100mMNAIN3_R2_2\", \n",
    "            \"230905_Candida_invitro_37C_100mMNAIN3_R2_3\",\n",
    "            #'220908_30C_DMSO'\n",
    "        ]"
   ]
  },
  {
   "cell_type": "code",
   "execution_count": 22,
   "metadata": {},
   "outputs": [
    {
     "name": "stdout",
     "output_type": "stream",
     "text": [
      "[908525, 888570, 0, 0.0, '230814_Candida_in_vitro_30C_100mMNAIN3_1']\n",
      "[1235421, 1203118, 0, 0.0, '230814_Candida_in_vitro_30C_100mMNAIN3_2']\n",
      "[1236219, 1206809, 0, 0.0, '230831_Candida_invitro_30C_100mMNAIN3_R2']\n",
      "[1413126, 1379612, 0, 0.0, '230907_Candida_invitro_30C_100mMNAIN3_R2_2']\n",
      "[697079, 682203, 0, 0.0, '230817_Candida_in_vitro_37C_100mMNAIN3_1']\n",
      "[785790, 768039, 0, 0.0, '230817_Candida_in_vitro_37C_100mMNAIN3_2']\n",
      "[919072, 899415, 0, 0.0, '230905_Candida_invitro_37C_100mMNAIN3_R2_2']\n",
      "[672978, 655085, 0, 0.0, '230905_Candida_invitro_37C_100mMNAIN3_R2_3']\n"
     ]
    }
   ],
   "source": [
    "summary = []\n",
    "\n",
    "for sample in metadata: \n",
    "\n",
    "    dir = '/home/han/proj_het_AC/rerun_analysis/0_Manuscript_Figures_QC_20241126/3_candida/final_alignment_merge/alignment/NAIN3/calbicans/'\n",
    "    #dir = '/home/han/proj_het_AC/rerun_analysis/5_candida_dtw_rescue/final_alignment/'\n",
    "\n",
    "    f_final_alignment = dir + sample + '/final/final_alignment.txt'\n",
    "    df_final_alignment = pd.read_csv(f_final_alignment, sep=\"\\t\", index_col=0)\n",
    "\n",
    "    df_final_alignment['diff'] = pd.to_numeric(df_final_alignment['diff'], errors='coerce')\n",
    "\n",
    "\n",
    "    #df_mm2 = df_final_alignment[df_final_alignment[\"is_minimap2\"]==True]\n",
    "    #df_dtw = df_final_alignment[(df_final_alignment[\"is_minimap2\"]==False)&((df_final_alignment[\"diff\"]>=0.09))]\n",
    "\n",
    "    df_mm2 = df_final_alignment[(df_final_alignment[\"is_minimap2\"]==True)&(df_final_alignment[\"chrom\"] !=\"*\")]\n",
    "    df_dtw = df_final_alignment[(df_final_alignment[\"is_minimap2\"]==False)&(df_final_alignment[\"diff\"]>=0.04)&(df_final_alignment[\"chrom\"] !=\"*\")]\n",
    "\n",
    "    single = [df_final_alignment.shape[0],df_mm2.shape[0],df_dtw.shape[0],df_dtw.shape[0]/df_mm2.shape[0],sample]\n",
    "    print(single)\n",
    "    summary.append(single) "
   ]
  },
  {
   "cell_type": "code",
   "execution_count": 20,
   "metadata": {},
   "outputs": [],
   "source": [
    "dfalign = pd.DataFrame(summary) "
   ]
  },
  {
   "cell_type": "code",
   "execution_count": 21,
   "metadata": {},
   "outputs": [
    {
     "data": {
      "text/html": [
       "<div>\n",
       "<style scoped>\n",
       "    .dataframe tbody tr th:only-of-type {\n",
       "        vertical-align: middle;\n",
       "    }\n",
       "\n",
       "    .dataframe tbody tr th {\n",
       "        vertical-align: top;\n",
       "    }\n",
       "\n",
       "    .dataframe thead th {\n",
       "        text-align: right;\n",
       "    }\n",
       "</style>\n",
       "<table border=\"1\" class=\"dataframe\">\n",
       "  <thead>\n",
       "    <tr style=\"text-align: right;\">\n",
       "      <th></th>\n",
       "      <th>0</th>\n",
       "      <th>1</th>\n",
       "      <th>2</th>\n",
       "      <th>3</th>\n",
       "      <th>4</th>\n",
       "    </tr>\n",
       "  </thead>\n",
       "  <tbody>\n",
       "    <tr>\n",
       "      <th>0</th>\n",
       "      <td>908525</td>\n",
       "      <td>888570</td>\n",
       "      <td>0</td>\n",
       "      <td>0.0</td>\n",
       "      <td>230814_Candida_in_vitro_30C_100mMNAIN3_1</td>\n",
       "    </tr>\n",
       "    <tr>\n",
       "      <th>1</th>\n",
       "      <td>1235421</td>\n",
       "      <td>1203118</td>\n",
       "      <td>0</td>\n",
       "      <td>0.0</td>\n",
       "      <td>230814_Candida_in_vitro_30C_100mMNAIN3_2</td>\n",
       "    </tr>\n",
       "    <tr>\n",
       "      <th>2</th>\n",
       "      <td>1236219</td>\n",
       "      <td>1206809</td>\n",
       "      <td>0</td>\n",
       "      <td>0.0</td>\n",
       "      <td>230831_Candida_invitro_30C_100mMNAIN3_R2</td>\n",
       "    </tr>\n",
       "    <tr>\n",
       "      <th>3</th>\n",
       "      <td>1413126</td>\n",
       "      <td>1379612</td>\n",
       "      <td>0</td>\n",
       "      <td>0.0</td>\n",
       "      <td>230907_Candida_invitro_30C_100mMNAIN3_R2_2</td>\n",
       "    </tr>\n",
       "    <tr>\n",
       "      <th>4</th>\n",
       "      <td>697079</td>\n",
       "      <td>682203</td>\n",
       "      <td>0</td>\n",
       "      <td>0.0</td>\n",
       "      <td>230817_Candida_in_vitro_37C_100mMNAIN3_1</td>\n",
       "    </tr>\n",
       "    <tr>\n",
       "      <th>5</th>\n",
       "      <td>785790</td>\n",
       "      <td>768039</td>\n",
       "      <td>0</td>\n",
       "      <td>0.0</td>\n",
       "      <td>230817_Candida_in_vitro_37C_100mMNAIN3_2</td>\n",
       "    </tr>\n",
       "    <tr>\n",
       "      <th>6</th>\n",
       "      <td>919072</td>\n",
       "      <td>899415</td>\n",
       "      <td>0</td>\n",
       "      <td>0.0</td>\n",
       "      <td>230905_Candida_invitro_37C_100mMNAIN3_R2_2</td>\n",
       "    </tr>\n",
       "    <tr>\n",
       "      <th>7</th>\n",
       "      <td>672978</td>\n",
       "      <td>655085</td>\n",
       "      <td>0</td>\n",
       "      <td>0.0</td>\n",
       "      <td>230905_Candida_invitro_37C_100mMNAIN3_R2_3</td>\n",
       "    </tr>\n",
       "  </tbody>\n",
       "</table>\n",
       "</div>"
      ],
      "text/plain": [
       "         0        1  2    3                                           4\n",
       "0   908525   888570  0  0.0    230814_Candida_in_vitro_30C_100mMNAIN3_1\n",
       "1  1235421  1203118  0  0.0    230814_Candida_in_vitro_30C_100mMNAIN3_2\n",
       "2  1236219  1206809  0  0.0    230831_Candida_invitro_30C_100mMNAIN3_R2\n",
       "3  1413126  1379612  0  0.0  230907_Candida_invitro_30C_100mMNAIN3_R2_2\n",
       "4   697079   682203  0  0.0    230817_Candida_in_vitro_37C_100mMNAIN3_1\n",
       "5   785790   768039  0  0.0    230817_Candida_in_vitro_37C_100mMNAIN3_2\n",
       "6   919072   899415  0  0.0  230905_Candida_invitro_37C_100mMNAIN3_R2_2\n",
       "7   672978   655085  0  0.0  230905_Candida_invitro_37C_100mMNAIN3_R2_3"
      ]
     },
     "execution_count": 21,
     "metadata": {},
     "output_type": "execute_result"
    }
   ],
   "source": [
    "dfalign"
   ]
  },
  {
   "cell_type": "code",
   "execution_count": 23,
   "metadata": {},
   "outputs": [],
   "source": [
    "sample = \"230905_Candida_invitro_37C_100mMNAIN3_R2_3\"\n",
    "dir = '/home/han/proj_het_AC/rerun_analysis/0_Manuscript_Figures_QC_20241126/3_candida/final_alignment_merge/alignment/NAIN3/calbicans/'\n",
    "#dir = '/home/han/proj_het_AC/rerun_analysis/5_candida_dtw_rescue/final_alignment/'\n",
    "\n",
    "f_final_alignment = dir + sample + '/final/final_alignment.txt'\n",
    "df_final_alignment = pd.read_csv(f_final_alignment, sep=\"\\t\", index_col=0)\n",
    "df_final_alignment['diff'] = pd.to_numeric(df_final_alignment['diff'], errors='coerce')\n"
   ]
  },
  {
   "cell_type": "code",
   "execution_count": 25,
   "metadata": {},
   "outputs": [
    {
     "data": {
      "text/plain": [
       "-1"
      ]
     },
     "execution_count": 25,
     "metadata": {},
     "output_type": "execute_result"
    }
   ],
   "source": [
    "df_final_alignment['diff'].max()"
   ]
  },
  {
   "cell_type": "code",
   "execution_count": null,
   "metadata": {},
   "outputs": [],
   "source": []
  },
  {
   "cell_type": "code",
   "execution_count": null,
   "metadata": {},
   "outputs": [],
   "source": [
    "#### all the back up -------------------------------\n",
    "#### all the back up -------------------------------"
   ]
  },
  {
   "cell_type": "code",
   "execution_count": 19,
   "metadata": {},
   "outputs": [],
   "source": [
    "samples = [\"220908_30C_100mMNAIN3\", \n",
    "        \"221005_30C_100mMNAIN3_Rep2\", \n",
    "        \"221007_30C_100mMNAIN3_Rep2_2\", \n",
    "        \"221025_30C_100mMNAIN3_Rep2_3\",\n",
    "        \"221025_30C_100mMNAIN3_Rep2_4\", \n",
    "        \"221031_30C_100mMNAIN3_Rep1_2\",\n",
    "                       \n",
    "       \n",
    "        \"221005_30Cto37C_100mMNAIN3_Rep2\", \n",
    "        \"221010_30Cto37C_100mMNAIN3_Rep2_2\",\n",
    "        \"221027_30Cto37C_100mMNAIN3_Rep2_3\", \n",
    "        \"221027_30Cto37C_100mMNAIN3_Rep2_4\", \n",
    "        \"230109_30Cto37C_100mMNAIN3_Rep4_1\", \n",
    "        \"230109_30Cto37C_100mMNAIN3_Rep4_2\", \n",
    "\n",
    "\n",
    "        \"230814_Candida_in_vitro_30C_100mMNAIN3_1\", \n",
    "        \"230814_Candida_in_vitro_30C_100mMNAIN3_2\", \n",
    "        \"230831_Candida_invitro_30C_100mMNAIN3_R2\", \n",
    "        \"230907_Candida_invitro_30C_100mMNAIN3_R2_2\", \n",
    "\n",
    "        \"230817_Candida_in_vitro_37C_100mMNAIN3_1\", \n",
    "        \"230817_Candida_in_vitro_37C_100mMNAIN3_2\", \n",
    "        \"230905_Candida_invitro_37C_100mMNAIN3_R2_2\", \n",
    "        \"230905_Candida_invitro_37C_100mMNAIN3_R2_3\"\n",
    "        ]"
   ]
  },
  {
   "cell_type": "code",
   "execution_count": 20,
   "metadata": {},
   "outputs": [],
   "source": [
    "single_sample_list = []\n",
    "\n",
    "for sample in samples:\n",
    "\n",
    "    dir = '/home/han/proj_het_AC/rerun_analysis/5_candida_dtw_rescue/candida_cuDTW_256/subset/subset/NAIN3/calbicans/'\n",
    "    mm2 = pd.read_csv(dir+sample+'/first_pass_minimap2.map', header = None, sep='\\t')\n",
    "    dtw = pd.read_csv(dir+sample+'/first_pass_dtw.map', header = None, sep='\\t')\n",
    "    dtw_remap = pd.read_csv(dir+sample+'/first_pass_dtw.remap', header = None, sep='\\t')\n",
    "\n",
    "    mm2.columns = ['read_id','mapping_gene']\n",
    "    dtw.columns = ['read_id','mapping_gene']\n",
    "    dtw_remap.columns = ['read_id','mapping_gene','best_score','average','diffscore','index_']\n",
    "\n",
    "    statistic_list = [mm2.shape[0], dtw.shape[0], dtw_remap.shape[0], sample]\n",
    "    #len(mm2['read_id'].unique())\n",
    "    #len(dtw['read_id'].unique())\n",
    "    #len(dtw_remap['read_id'].unique())\n",
    "    \n",
    "    single_sample_list.append(statistic_list)\n",
    "\n",
    "output = '/home/han/proj_het_AC/rerun_analysis/5_candida_dtw_rescue/candida_cuDTW_256/'\n",
    "mapping_df = pd.DataFrame(single_sample_list, columns=['mm2_map','dtw_map','dtw_remap','sample'])\n",
    "mapping_df.to_csv(output+'general_statistic_mapping_mm2_dtw.txt',sep='\\t')"
   ]
  },
  {
   "cell_type": "code",
   "execution_count": 21,
   "metadata": {},
   "outputs": [
    {
     "data": {
      "text/html": [
       "<div>\n",
       "<style scoped>\n",
       "    .dataframe tbody tr th:only-of-type {\n",
       "        vertical-align: middle;\n",
       "    }\n",
       "\n",
       "    .dataframe tbody tr th {\n",
       "        vertical-align: top;\n",
       "    }\n",
       "\n",
       "    .dataframe thead th {\n",
       "        text-align: right;\n",
       "    }\n",
       "</style>\n",
       "<table border=\"1\" class=\"dataframe\">\n",
       "  <thead>\n",
       "    <tr style=\"text-align: right;\">\n",
       "      <th></th>\n",
       "      <th>mm2_map</th>\n",
       "      <th>dtw_map</th>\n",
       "      <th>dtw_remap</th>\n",
       "      <th>sample</th>\n",
       "    </tr>\n",
       "  </thead>\n",
       "  <tbody>\n",
       "    <tr>\n",
       "      <th>0</th>\n",
       "      <td>788879</td>\n",
       "      <td>713456</td>\n",
       "      <td>262277</td>\n",
       "      <td>220908_30C_100mMNAIN3</td>\n",
       "    </tr>\n",
       "    <tr>\n",
       "      <th>1</th>\n",
       "      <td>269100</td>\n",
       "      <td>404585</td>\n",
       "      <td>125482</td>\n",
       "      <td>221005_30C_100mMNAIN3_Rep2</td>\n",
       "    </tr>\n",
       "    <tr>\n",
       "      <th>2</th>\n",
       "      <td>508492</td>\n",
       "      <td>406954</td>\n",
       "      <td>139812</td>\n",
       "      <td>221007_30C_100mMNAIN3_Rep2_2</td>\n",
       "    </tr>\n",
       "    <tr>\n",
       "      <th>3</th>\n",
       "      <td>615279</td>\n",
       "      <td>440642</td>\n",
       "      <td>130388</td>\n",
       "      <td>221025_30C_100mMNAIN3_Rep2_3</td>\n",
       "    </tr>\n",
       "    <tr>\n",
       "      <th>4</th>\n",
       "      <td>641211</td>\n",
       "      <td>387210</td>\n",
       "      <td>125162</td>\n",
       "      <td>221025_30C_100mMNAIN3_Rep2_4</td>\n",
       "    </tr>\n",
       "    <tr>\n",
       "      <th>5</th>\n",
       "      <td>512190</td>\n",
       "      <td>451882</td>\n",
       "      <td>146466</td>\n",
       "      <td>221031_30C_100mMNAIN3_Rep1_2</td>\n",
       "    </tr>\n",
       "    <tr>\n",
       "      <th>6</th>\n",
       "      <td>823442</td>\n",
       "      <td>932745</td>\n",
       "      <td>271464</td>\n",
       "      <td>221005_30Cto37C_100mMNAIN3_Rep2</td>\n",
       "    </tr>\n",
       "    <tr>\n",
       "      <th>7</th>\n",
       "      <td>697924</td>\n",
       "      <td>663578</td>\n",
       "      <td>234561</td>\n",
       "      <td>221010_30Cto37C_100mMNAIN3_Rep2_2</td>\n",
       "    </tr>\n",
       "    <tr>\n",
       "      <th>8</th>\n",
       "      <td>550130</td>\n",
       "      <td>469939</td>\n",
       "      <td>153450</td>\n",
       "      <td>221027_30Cto37C_100mMNAIN3_Rep2_3</td>\n",
       "    </tr>\n",
       "    <tr>\n",
       "      <th>9</th>\n",
       "      <td>562240</td>\n",
       "      <td>404790</td>\n",
       "      <td>146288</td>\n",
       "      <td>221027_30Cto37C_100mMNAIN3_Rep2_4</td>\n",
       "    </tr>\n",
       "    <tr>\n",
       "      <th>10</th>\n",
       "      <td>830550</td>\n",
       "      <td>599633</td>\n",
       "      <td>227740</td>\n",
       "      <td>230109_30Cto37C_100mMNAIN3_Rep4_1</td>\n",
       "    </tr>\n",
       "    <tr>\n",
       "      <th>11</th>\n",
       "      <td>945682</td>\n",
       "      <td>694302</td>\n",
       "      <td>266418</td>\n",
       "      <td>230109_30Cto37C_100mMNAIN3_Rep4_2</td>\n",
       "    </tr>\n",
       "    <tr>\n",
       "      <th>12</th>\n",
       "      <td>908982</td>\n",
       "      <td>666809</td>\n",
       "      <td>264969</td>\n",
       "      <td>230814_Candida_in_vitro_30C_100mMNAIN3_1</td>\n",
       "    </tr>\n",
       "    <tr>\n",
       "      <th>13</th>\n",
       "      <td>1236043</td>\n",
       "      <td>677896</td>\n",
       "      <td>202551</td>\n",
       "      <td>230814_Candida_in_vitro_30C_100mMNAIN3_2</td>\n",
       "    </tr>\n",
       "    <tr>\n",
       "      <th>14</th>\n",
       "      <td>1236845</td>\n",
       "      <td>797841</td>\n",
       "      <td>241986</td>\n",
       "      <td>230831_Candida_invitro_30C_100mMNAIN3_R2</td>\n",
       "    </tr>\n",
       "    <tr>\n",
       "      <th>15</th>\n",
       "      <td>1413837</td>\n",
       "      <td>902312</td>\n",
       "      <td>274187</td>\n",
       "      <td>230907_Candida_invitro_30C_100mMNAIN3_R2_2</td>\n",
       "    </tr>\n",
       "    <tr>\n",
       "      <th>16</th>\n",
       "      <td>697430</td>\n",
       "      <td>769668</td>\n",
       "      <td>289218</td>\n",
       "      <td>230817_Candida_in_vitro_37C_100mMNAIN3_1</td>\n",
       "    </tr>\n",
       "    <tr>\n",
       "      <th>17</th>\n",
       "      <td>790184</td>\n",
       "      <td>1015653</td>\n",
       "      <td>323588</td>\n",
       "      <td>230817_Candida_in_vitro_37C_100mMNAIN3_2</td>\n",
       "    </tr>\n",
       "    <tr>\n",
       "      <th>18</th>\n",
       "      <td>919535</td>\n",
       "      <td>986752</td>\n",
       "      <td>324939</td>\n",
       "      <td>230905_Candida_invitro_37C_100mMNAIN3_R2_2</td>\n",
       "    </tr>\n",
       "    <tr>\n",
       "      <th>19</th>\n",
       "      <td>677318</td>\n",
       "      <td>939571</td>\n",
       "      <td>268261</td>\n",
       "      <td>230905_Candida_invitro_37C_100mMNAIN3_R2_3</td>\n",
       "    </tr>\n",
       "  </tbody>\n",
       "</table>\n",
       "</div>"
      ],
      "text/plain": [
       "    mm2_map  dtw_map  dtw_remap                                      sample\n",
       "0    788879   713456     262277                       220908_30C_100mMNAIN3\n",
       "1    269100   404585     125482                  221005_30C_100mMNAIN3_Rep2\n",
       "2    508492   406954     139812                221007_30C_100mMNAIN3_Rep2_2\n",
       "3    615279   440642     130388                221025_30C_100mMNAIN3_Rep2_3\n",
       "4    641211   387210     125162                221025_30C_100mMNAIN3_Rep2_4\n",
       "5    512190   451882     146466                221031_30C_100mMNAIN3_Rep1_2\n",
       "6    823442   932745     271464             221005_30Cto37C_100mMNAIN3_Rep2\n",
       "7    697924   663578     234561           221010_30Cto37C_100mMNAIN3_Rep2_2\n",
       "8    550130   469939     153450           221027_30Cto37C_100mMNAIN3_Rep2_3\n",
       "9    562240   404790     146288           221027_30Cto37C_100mMNAIN3_Rep2_4\n",
       "10   830550   599633     227740           230109_30Cto37C_100mMNAIN3_Rep4_1\n",
       "11   945682   694302     266418           230109_30Cto37C_100mMNAIN3_Rep4_2\n",
       "12   908982   666809     264969    230814_Candida_in_vitro_30C_100mMNAIN3_1\n",
       "13  1236043   677896     202551    230814_Candida_in_vitro_30C_100mMNAIN3_2\n",
       "14  1236845   797841     241986    230831_Candida_invitro_30C_100mMNAIN3_R2\n",
       "15  1413837   902312     274187  230907_Candida_invitro_30C_100mMNAIN3_R2_2\n",
       "16   697430   769668     289218    230817_Candida_in_vitro_37C_100mMNAIN3_1\n",
       "17   790184  1015653     323588    230817_Candida_in_vitro_37C_100mMNAIN3_2\n",
       "18   919535   986752     324939  230905_Candida_invitro_37C_100mMNAIN3_R2_2\n",
       "19   677318   939571     268261  230905_Candida_invitro_37C_100mMNAIN3_R2_3"
      ]
     },
     "execution_count": 21,
     "metadata": {},
     "output_type": "execute_result"
    }
   ],
   "source": [
    "mapping_df"
   ]
  },
  {
   "cell_type": "code",
   "execution_count": null,
   "metadata": {},
   "outputs": [],
   "source": [
    "## 2. ./bam/  flagstat ---------------"
   ]
  },
  {
   "cell_type": "code",
   "execution_count": 9,
   "metadata": {},
   "outputs": [],
   "source": [
    "samples = [\"220908_30C_100mMNAIN3\", \n",
    "        \"221005_30C_100mMNAIN3_Rep2\", \n",
    "        \"221007_30C_100mMNAIN3_Rep2_2\", \n",
    "        \"221025_30C_100mMNAIN3_Rep2_3\",\n",
    "        \"221025_30C_100mMNAIN3_Rep2_4\", \n",
    "        \"221031_30C_100mMNAIN3_Rep1_2\",\n",
    "                       \n",
    "       \n",
    "        \"221005_30Cto37C_100mMNAIN3_Rep2\", \n",
    "        \"221010_30Cto37C_100mMNAIN3_Rep2_2\",\n",
    "        \"221027_30Cto37C_100mMNAIN3_Rep2_3\", \n",
    "        \"221027_30Cto37C_100mMNAIN3_Rep2_4\", \n",
    "        \"230109_30Cto37C_100mMNAIN3_Rep4_1\", \n",
    "        \"230109_30Cto37C_100mMNAIN3_Rep4_2\", \n",
    "\n",
    "\n",
    "        \"230814_Candida_in_vitro_30C_100mMNAIN3_1\", \n",
    "        \"230814_Candida_in_vitro_30C_100mMNAIN3_2\", \n",
    "        \"230831_Candida_invitro_30C_100mMNAIN3_R2\", \n",
    "        \"230907_Candida_invitro_30C_100mMNAIN3_R2_2\", \n",
    "\n",
    "        \"230817_Candida_in_vitro_37C_100mMNAIN3_1\", \n",
    "        \"230817_Candida_in_vitro_37C_100mMNAIN3_2\", \n",
    "        \"230905_Candida_invitro_37C_100mMNAIN3_R2_2\", \n",
    "        \"230905_Candida_invitro_37C_100mMNAIN3_R2_3\"\n",
    "        ]"
   ]
  },
  {
   "cell_type": "code",
   "execution_count": null,
   "metadata": {},
   "outputs": [],
   "source": [
    "# to get the subset .map  and .remap results"
   ]
  },
  {
   "cell_type": "markdown",
   "metadata": {},
   "source": []
  },
  {
   "cell_type": "markdown",
   "metadata": {},
   "source": []
  },
  {
   "cell_type": "code",
   "execution_count": null,
   "metadata": {},
   "outputs": [],
   "source": [
    "dir = '/home/han/proj_het_AC/rerun_analysis/5_candida_dtw_rescue/candida_cuDTW_256/subset/NAIN3/calbicans/'"
   ]
  },
  {
   "cell_type": "code",
   "execution_count": 5,
   "metadata": {},
   "outputs": [],
   "source": [
    "#samples = [\"221005_30C_100mMNAIN3_Rep2\"]"
   ]
  },
  {
   "cell_type": "code",
   "execution_count": 11,
   "metadata": {},
   "outputs": [
    {
     "name": "stderr",
     "output_type": "stream",
     "text": [
      "/apps/users/hanjian/miniconda3/envs/gis/lib/python3.9/site-packages/IPython/core/interactiveshell.py:3169: DtypeWarning: Columns (1,2,4,5,7,8,9,10,11) have mixed types.Specify dtype option on import or set low_memory=False.\n",
      "  has_raised = await self.run_ast_nodes(code_ast.body, cell_name,\n"
     ]
    },
    {
     "name": "stdout",
     "output_type": "stream",
     "text": [
      "[1050691, 773027, 35827, 0.04634637599980337, '220908_30C_100mMNAIN3']\n"
     ]
    },
    {
     "name": "stderr",
     "output_type": "stream",
     "text": [
      "/apps/users/hanjian/miniconda3/envs/gis/lib/python3.9/site-packages/IPython/core/interactiveshell.py:3169: DtypeWarning: Columns (1,2,4,5,7,8,9,10,11) have mixed types.Specify dtype option on import or set low_memory=False.\n",
      "  has_raised = await self.run_ast_nodes(code_ast.body, cell_name,\n"
     ]
    },
    {
     "name": "stdout",
     "output_type": "stream",
     "text": [
      "[394413, 255206, 15754, 0.06173052357703189, '221005_30C_100mMNAIN3_Rep2']\n"
     ]
    },
    {
     "name": "stderr",
     "output_type": "stream",
     "text": [
      "/apps/users/hanjian/miniconda3/envs/gis/lib/python3.9/site-packages/IPython/core/interactiveshell.py:3169: DtypeWarning: Columns (1,2,4,5,7,8,9,10,11) have mixed types.Specify dtype option on import or set low_memory=False.\n",
      "  has_raised = await self.run_ast_nodes(code_ast.body, cell_name,\n"
     ]
    },
    {
     "name": "stdout",
     "output_type": "stream",
     "text": [
      "[648018, 449447, 26412, 0.05876554966436532, '221007_30C_100mMNAIN3_Rep2_2']\n"
     ]
    },
    {
     "name": "stderr",
     "output_type": "stream",
     "text": [
      "/apps/users/hanjian/miniconda3/envs/gis/lib/python3.9/site-packages/IPython/core/interactiveshell.py:3169: DtypeWarning: Columns (1,2,4,5,7,8,9,10,11) have mixed types.Specify dtype option on import or set low_memory=False.\n",
      "  has_raised = await self.run_ast_nodes(code_ast.body, cell_name,\n"
     ]
    },
    {
     "name": "stdout",
     "output_type": "stream",
     "text": [
      "[745320, 575592, 20263, 0.03520375543787961, '221025_30C_100mMNAIN3_Rep2_3']\n"
     ]
    },
    {
     "name": "stderr",
     "output_type": "stream",
     "text": [
      "/apps/users/hanjian/miniconda3/envs/gis/lib/python3.9/site-packages/IPython/core/interactiveshell.py:3169: DtypeWarning: Columns (1,2,4,5,7,8,9,10,11) have mixed types.Specify dtype option on import or set low_memory=False.\n",
      "  has_raised = await self.run_ast_nodes(code_ast.body, cell_name,\n"
     ]
    },
    {
     "name": "stdout",
     "output_type": "stream",
     "text": [
      "[766018, 577599, 23333, 0.040396538082649036, '221025_30C_100mMNAIN3_Rep2_4']\n"
     ]
    },
    {
     "name": "stderr",
     "output_type": "stream",
     "text": [
      "/apps/users/hanjian/miniconda3/envs/gis/lib/python3.9/site-packages/IPython/core/interactiveshell.py:3169: DtypeWarning: Columns (1,2,4,5,7,8,9,10,11) have mixed types.Specify dtype option on import or set low_memory=False.\n",
      "  has_raised = await self.run_ast_nodes(code_ast.body, cell_name,\n"
     ]
    },
    {
     "name": "stdout",
     "output_type": "stream",
     "text": [
      "[658356, 449267, 26606, 0.05922090872465594, '221031_30C_100mMNAIN3_Rep1_2']\n"
     ]
    },
    {
     "name": "stderr",
     "output_type": "stream",
     "text": [
      "/apps/users/hanjian/miniconda3/envs/gis/lib/python3.9/site-packages/IPython/core/interactiveshell.py:3169: DtypeWarning: Columns (1,2,4,5,7,8,9,10,11) have mixed types.Specify dtype option on import or set low_memory=False.\n",
      "  has_raised = await self.run_ast_nodes(code_ast.body, cell_name,\n"
     ]
    },
    {
     "name": "stdout",
     "output_type": "stream",
     "text": [
      "[1094417, 773446, 47209, 0.06103722819692648, '221005_30Cto37C_100mMNAIN3_Rep2']\n"
     ]
    },
    {
     "name": "stderr",
     "output_type": "stream",
     "text": [
      "/apps/users/hanjian/miniconda3/envs/gis/lib/python3.9/site-packages/IPython/core/interactiveshell.py:3169: DtypeWarning: Columns (1,2,4,5,7,8,9,10,11) have mixed types.Specify dtype option on import or set low_memory=False.\n",
      "  has_raised = await self.run_ast_nodes(code_ast.body, cell_name,\n"
     ]
    },
    {
     "name": "stdout",
     "output_type": "stream",
     "text": [
      "[932076, 645644, 39148, 0.06063403361604847, '221010_30Cto37C_100mMNAIN3_Rep2_2']\n"
     ]
    },
    {
     "name": "stderr",
     "output_type": "stream",
     "text": [
      "/apps/users/hanjian/miniconda3/envs/gis/lib/python3.9/site-packages/IPython/core/interactiveshell.py:3169: DtypeWarning: Columns (1,2,4,5,7,8,9,10,11) have mixed types.Specify dtype option on import or set low_memory=False.\n",
      "  has_raised = await self.run_ast_nodes(code_ast.body, cell_name,\n"
     ]
    },
    {
     "name": "stdout",
     "output_type": "stream",
     "text": [
      "[703261, 514925, 22385, 0.043472350342282855, '221027_30Cto37C_100mMNAIN3_Rep2_3']\n"
     ]
    },
    {
     "name": "stderr",
     "output_type": "stream",
     "text": [
      "/apps/users/hanjian/miniconda3/envs/gis/lib/python3.9/site-packages/IPython/core/interactiveshell.py:3169: DtypeWarning: Columns (1,2,4,5,7,8,9,10,11) have mixed types.Specify dtype option on import or set low_memory=False.\n",
      "  has_raised = await self.run_ast_nodes(code_ast.body, cell_name,\n"
     ]
    },
    {
     "name": "stdout",
     "output_type": "stream",
     "text": [
      "[708210, 516150, 23213, 0.04497336045723142, '221027_30Cto37C_100mMNAIN3_Rep2_4']\n"
     ]
    },
    {
     "name": "stderr",
     "output_type": "stream",
     "text": [
      "/apps/users/hanjian/miniconda3/envs/gis/lib/python3.9/site-packages/IPython/core/interactiveshell.py:3169: DtypeWarning: Columns (1,2,4,5,7,8,9,10,11) have mixed types.Specify dtype option on import or set low_memory=False.\n",
      "  has_raised = await self.run_ast_nodes(code_ast.body, cell_name,\n"
     ]
    },
    {
     "name": "stdout",
     "output_type": "stream",
     "text": [
      "[1057809, 775577, 36230, 0.04671360806212665, '230109_30Cto37C_100mMNAIN3_Rep4_1']\n"
     ]
    },
    {
     "name": "stderr",
     "output_type": "stream",
     "text": [
      "/apps/users/hanjian/miniconda3/envs/gis/lib/python3.9/site-packages/IPython/core/interactiveshell.py:3169: DtypeWarning: Columns (1,2,4,5,7,8,9,10,11) have mixed types.Specify dtype option on import or set low_memory=False.\n",
      "  has_raised = await self.run_ast_nodes(code_ast.body, cell_name,\n"
     ]
    },
    {
     "name": "stdout",
     "output_type": "stream",
     "text": [
      "[1211568, 905894, 39135, 0.0432004185920207, '230109_30Cto37C_100mMNAIN3_Rep4_2']\n"
     ]
    },
    {
     "name": "stderr",
     "output_type": "stream",
     "text": [
      "/apps/users/hanjian/miniconda3/envs/gis/lib/python3.9/site-packages/IPython/core/interactiveshell.py:3169: DtypeWarning: Columns (1,2,4,5,7,8,9,10,11) have mixed types.Specify dtype option on import or set low_memory=False.\n",
      "  has_raised = await self.run_ast_nodes(code_ast.body, cell_name,\n"
     ]
    },
    {
     "name": "stdout",
     "output_type": "stream",
     "text": [
      "[1173427, 833654, 59260, 0.07108464662797756, '230814_Candida_in_vitro_30C_100mMNAIN3_1']\n"
     ]
    },
    {
     "name": "stderr",
     "output_type": "stream",
     "text": [
      "/apps/users/hanjian/miniconda3/envs/gis/lib/python3.9/site-packages/IPython/core/interactiveshell.py:3169: DtypeWarning: Columns (1,2,4,5,7,8,9,10,11) have mixed types.Specify dtype option on import or set low_memory=False.\n",
      "  has_raised = await self.run_ast_nodes(code_ast.body, cell_name,\n"
     ]
    },
    {
     "name": "stdout",
     "output_type": "stream",
     "text": [
      "[1437933, 1148718, 43313, 0.03770551170957537, '230814_Candida_in_vitro_30C_100mMNAIN3_2']\n"
     ]
    },
    {
     "name": "stderr",
     "output_type": "stream",
     "text": [
      "/apps/users/hanjian/miniconda3/envs/gis/lib/python3.9/site-packages/IPython/core/interactiveshell.py:3169: DtypeWarning: Columns (1,2,4,5,7,8,9,10,11) have mixed types.Specify dtype option on import or set low_memory=False.\n",
      "  has_raised = await self.run_ast_nodes(code_ast.body, cell_name,\n"
     ]
    },
    {
     "name": "stdout",
     "output_type": "stream",
     "text": [
      "[1478150, 1151894, 47989, 0.041660951441712515, '230831_Candida_invitro_30C_100mMNAIN3_R2']\n"
     ]
    },
    {
     "name": "stderr",
     "output_type": "stream",
     "text": [
      "/apps/users/hanjian/miniconda3/envs/gis/lib/python3.9/site-packages/IPython/core/interactiveshell.py:3169: DtypeWarning: Columns (1,2,4,5,7,8,9,10,11) have mixed types.Specify dtype option on import or set low_memory=False.\n",
      "  has_raised = await self.run_ast_nodes(code_ast.body, cell_name,\n"
     ]
    },
    {
     "name": "stdout",
     "output_type": "stream",
     "text": [
      "[1687229, 1343978, 52257, 0.038882332895330135, '230907_Candida_invitro_30C_100mMNAIN3_R2_2']\n"
     ]
    },
    {
     "name": "stderr",
     "output_type": "stream",
     "text": [
      "/apps/users/hanjian/miniconda3/envs/gis/lib/python3.9/site-packages/IPython/core/interactiveshell.py:3169: DtypeWarning: Columns (1,2,4,5,7,8,9,10,11) have mixed types.Specify dtype option on import or set low_memory=False.\n",
      "  has_raised = await self.run_ast_nodes(code_ast.body, cell_name,\n"
     ]
    },
    {
     "name": "stdout",
     "output_type": "stream",
     "text": [
      "[986234, 641464, 40958, 0.06385081625781026, '230817_Candida_in_vitro_37C_100mMNAIN3_1']\n"
     ]
    },
    {
     "name": "stderr",
     "output_type": "stream",
     "text": [
      "/apps/users/hanjian/miniconda3/envs/gis/lib/python3.9/site-packages/IPython/core/interactiveshell.py:3169: DtypeWarning: Columns (1,2,4,5,7,8,9,10,11) have mixed types.Specify dtype option on import or set low_memory=False.\n",
      "  has_raised = await self.run_ast_nodes(code_ast.body, cell_name,\n"
     ]
    },
    {
     "name": "stdout",
     "output_type": "stream",
     "text": [
      "[1109290, 704782, 52067, 0.07387674486578828, '230817_Candida_in_vitro_37C_100mMNAIN3_2']\n"
     ]
    },
    {
     "name": "stderr",
     "output_type": "stream",
     "text": [
      "/apps/users/hanjian/miniconda3/envs/gis/lib/python3.9/site-packages/IPython/core/interactiveshell.py:3169: DtypeWarning: Columns (1,2,4,5,7,8,9,10,11) have mixed types.Specify dtype option on import or set low_memory=False.\n",
      "  has_raised = await self.run_ast_nodes(code_ast.body, cell_name,\n"
     ]
    },
    {
     "name": "stdout",
     "output_type": "stream",
     "text": [
      "[1243934, 897888, 42276, 0.04708382337218005, '230905_Candida_invitro_37C_100mMNAIN3_R2_2']\n"
     ]
    },
    {
     "name": "stderr",
     "output_type": "stream",
     "text": [
      "/apps/users/hanjian/miniconda3/envs/gis/lib/python3.9/site-packages/IPython/core/interactiveshell.py:3169: DtypeWarning: Columns (1,2,4,5,7,8,9,10,11) have mixed types.Specify dtype option on import or set low_memory=False.\n",
      "  has_raised = await self.run_ast_nodes(code_ast.body, cell_name,\n"
     ]
    },
    {
     "name": "stdout",
     "output_type": "stream",
     "text": [
      "[941162, 638016, 36364, 0.05699543585113853, '230905_Candida_invitro_37C_100mMNAIN3_R2_3']\n"
     ]
    }
   ],
   "source": [
    "summary = []\n",
    "\n",
    "for sample in samples: \n",
    "\n",
    "    dir = '/home/han/proj_het_AC/rerun_analysis/5_candida_dtw_rescue/final_alignments_merge/'\n",
    "    #dir = '/home/han/proj_het_AC/rerun_analysis/5_candida_dtw_rescue/final_alignment/'\n",
    "\n",
    "    f_final_alignment = dir + sample + '_final_alignment_merge.txt.gz'\n",
    "    df_final_alignment = pd.read_csv(f_final_alignment, sep=\"\\t\", index_col=0)\n",
    "\n",
    "    df_final_alignment['diff'] = pd.to_numeric(df_final_alignment['diff'], errors='coerce')\n",
    "\n",
    "    #df_mm2 = df_final_alignment[df_final_alignment[\"is_minimap2\"]==True]\n",
    "    #df_dtw = df_final_alignment[(df_final_alignment[\"is_minimap2\"]==False)&((df_final_alignment[\"diff\"]>=0.09))]\n",
    "\n",
    "    df_mm2 = df_final_alignment[(df_final_alignment[\"is_minimap2\"]==True)&(df_final_alignment[\"chrom\"] !=\"*\")]\n",
    "    df_dtw = df_final_alignment[(df_final_alignment[\"is_minimap2\"]==False)&(df_final_alignment[\"diff\"]>=0.09)&(df_final_alignment[\"chrom\"] !=\"*\")]\n",
    "\n",
    "    single = [df_final_alignment.shape[0],df_mm2.shape[0],df_dtw.shape[0],df_dtw.shape[0]/df_mm2.shape[0],sample]\n",
    "    print(single)\n",
    "    summary.append(single)"
   ]
  },
  {
   "cell_type": "code",
   "execution_count": null,
   "metadata": {},
   "outputs": [],
   "source": [
    "## to get the total reads from the minmap2 sorted.bam"
   ]
  },
  {
   "cell_type": "code",
   "execution_count": 15,
   "metadata": {},
   "outputs": [],
   "source": [
    "metadata = [\n",
    "            \"220908_30C_100mMNAIN3\", \n",
    "            \"221005_30C_100mMNAIN3_Rep2\", \n",
    "            \"221007_30C_100mMNAIN3_Rep2_2\", \n",
    "            \"221025_30C_100mMNAIN3_Rep2_3\",\n",
    "            \"221025_30C_100mMNAIN3_Rep2_4\", \n",
    "            \"221031_30C_100mMNAIN3_Rep1_2\",\n",
    "                        \n",
    "        \n",
    "            \"221005_30Cto37C_100mMNAIN3_Rep2\", \n",
    "            \"221010_30Cto37C_100mMNAIN3_Rep2_2\",\n",
    "            \"221027_30Cto37C_100mMNAIN3_Rep2_3\", \n",
    "            \"221027_30Cto37C_100mMNAIN3_Rep2_4\", \n",
    "            \"230109_30Cto37C_100mMNAIN3_Rep4_1\", \n",
    "            \"230109_30Cto37C_100mMNAIN3_Rep4_2\", \n",
    "\n",
    "\n",
    "            \"230814_Candida_in_vitro_30C_100mMNAIN3_1\", \n",
    "            \"230814_Candida_in_vitro_30C_100mMNAIN3_2\", \n",
    "            \"230831_Candida_invitro_30C_100mMNAIN3_R2\", \n",
    "            \"230907_Candida_invitro_30C_100mMNAIN3_R2_2\", \n",
    "\n",
    "            \"230817_Candida_in_vitro_37C_100mMNAIN3_1\", \n",
    "            \"230817_Candida_in_vitro_37C_100mMNAIN3_2\", \n",
    "            \"230905_Candida_invitro_37C_100mMNAIN3_R2_2\", \n",
    "            \"230905_Candida_invitro_37C_100mMNAIN3_R2_3\"\n",
    "        ]"
   ]
  },
  {
   "cell_type": "code",
   "execution_count": 20,
   "metadata": {},
   "outputs": [],
   "source": [
    "\n",
    "single_sample_list = []\n",
    "\n",
    "for sample in metadata:\n",
    "    dir = '/home/han/proj_het_AC/rerun_analysis/5_candida_dtw_rescue/mapping_stat/calbicans/'\n",
    "    maping = pd.read_csv(dir+sample+'.statFLAG.tsv', header = None, sep='\\t')\n",
    "    maping[['reads', 'name']] = maping[0].str.split('+',1,expand = True)\n",
    "    statistic_list = [int(maping.reads[0]), int(maping.reads[4]), sample]\n",
    "    \n",
    "    single_sample_list.append(statistic_list)\n",
    "\n",
    "mapping_df = pd.DataFrame(single_sample_list, columns=['total','mapped','sample'])\n",
    "mapping_df.to_csv(dir+'general_statistic_mapping.txt',sep='\\t')"
   ]
  },
  {
   "cell_type": "code",
   "execution_count": null,
   "metadata": {},
   "outputs": [],
   "source": [
    "## to get the total reads from the sequencing summary"
   ]
  },
  {
   "cell_type": "code",
   "execution_count": 21,
   "metadata": {},
   "outputs": [],
   "source": [
    "dir = '/home/han/proj_het_AC/rerun_analysis/5_candida_dtw_rescue/sequencing_summary/'\n",
    "seqsum = pd.read_csv(dir+'sequencing_summary.txt',sep='\\t')\n",
    "len(list(seqsum.read_id))\n",
    "seqsum.columns\n",
    "len(list(seqsum.read_id.unique()))"
   ]
  },
  {
   "cell_type": "code",
   "execution_count": 28,
   "metadata": {},
   "outputs": [],
   "source": [
    "metadata = [\n",
    "            \"220908_30C_100mMNAIN3\", \n",
    "            \"221005_30C_100mMNAIN3_Rep2\", \n",
    "            \"221007_30C_100mMNAIN3_Rep2_2\", \n",
    "            \"221025_30C_100mMNAIN3_Rep2_3\",\n",
    "            \"221025_30C_100mMNAIN3_Rep2_4\", \n",
    "            \"221031_30C_100mMNAIN3_Rep1_2\",\n",
    "                        \n",
    "        \n",
    "            \"221005_30Cto37C_100mMNAIN3_Rep2\", \n",
    "            \"221010_30Cto37C_100mMNAIN3_Rep2_2\",\n",
    "            \"221027_30Cto37C_100mMNAIN3_Rep2_3\", \n",
    "            \"221027_30Cto37C_100mMNAIN3_Rep2_4\", \n",
    "            \"230109_30Cto37C_100mMNAIN3_Rep4_1\", \n",
    "            \"230109_30Cto37C_100mMNAIN3_Rep4_2\", \n",
    "\n",
    "\n",
    "            \"230814_Candida_in_vitro_30C_100mMNAIN3_1\", \n",
    "            \"230814_Candida_in_vitro_30C_100mMNAIN3_2\", \n",
    "            \"230831_Candida_invitro_30C_100mMNAIN3_R2\", \n",
    "            \"230907_Candida_invitro_30C_100mMNAIN3_R2_2\", \n",
    "\n",
    "            \"230817_Candida_in_vitro_37C_100mMNAIN3_1\", \n",
    "            \"230817_Candida_in_vitro_37C_100mMNAIN3_2\", \n",
    "            \"230905_Candida_invitro_37C_100mMNAIN3_R2_2\", \n",
    "            \"230905_Candida_invitro_37C_100mMNAIN3_R2_3\"\n",
    "        ]"
   ]
  },
  {
   "cell_type": "code",
   "execution_count": 29,
   "metadata": {},
   "outputs": [
    {
     "name": "stdout",
     "output_type": "stream",
     "text": [
      "[1532446, 704973, 827473, '220908_30C_100mMNAIN3']\n",
      "[683628, 261145, 422483, '221005_30C_100mMNAIN3_Rep2']\n",
      "[933402, 500828, 432574, '221007_30C_100mMNAIN3_Rep2_2']\n",
      "[1079174, 627188, 451986, '221025_30C_100mMNAIN3_Rep2_3']\n",
      "[1050951, 641393, 409558, '221025_30C_100mMNAIN3_Rep2_4']\n",
      "[983537, 480965, 502572, '221031_30C_100mMNAIN3_Rep1_2']\n",
      "[1785968, 775893, 1010075, '221005_30Cto37C_100mMNAIN3_Rep2']\n",
      "[1387938, 644620, 743318, '221010_30Cto37C_100mMNAIN3_Rep2_2']\n",
      "[1041168, 511001, 530167, '221027_30Cto37C_100mMNAIN3_Rep2_3']\n",
      "[987549, 532861, 454688, '221027_30Cto37C_100mMNAIN3_Rep2_4']\n",
      "[1459472, 736563, 722909, '230109_30Cto37C_100mMNAIN3_Rep4_1']\n",
      "[1672814, 820257, 852557, '230109_30Cto37C_100mMNAIN3_Rep4_2']\n",
      "[1597023, 865518, 731505, '230814_Candida_in_vitro_30C_100mMNAIN3_1']\n",
      "[1944563, 1252687, 691876, '230814_Candida_in_vitro_30C_100mMNAIN3_2']\n",
      "[2065872, 1205568, 860304, '230831_Candida_invitro_30C_100mMNAIN3_R2']\n",
      "[2352377, 1382080, 970297, '230907_Candida_invitro_30C_100mMNAIN3_R2_2']\n",
      "[1481788, 506941, 974847, '230817_Candida_in_vitro_37C_100mMNAIN3_1']\n",
      "[1823050, 610632, 1212418, '230817_Candida_in_vitro_37C_100mMNAIN3_2']\n",
      "[1926700, 727445, 1199255, '230905_Candida_invitro_37C_100mMNAIN3_R2_2']\n",
      "[1632120, 543374, 1088746, '230905_Candida_invitro_37C_100mMNAIN3_R2_3']\n"
     ]
    }
   ],
   "source": [
    "single_sample_list = []\n",
    "\n",
    "for sample in metadata:\n",
    "\n",
    "    dir = '/home/han/proj_het_AC/rerun_analysis/5_candida_dtw_rescue/sequencing_summary/NAIN3/'\n",
    "    seqsum = pd.read_csv(dir+sample+'/sequencing_summary.txt',sep='\\t')\n",
    "    seqsum = seqsum[['read_id','passes_filtering']]\n",
    "    \n",
    "    total = len(list(seqsum.read_id.unique()))\n",
    "\n",
    "    pass_reads =  seqsum[seqsum['passes_filtering']==True]\n",
    "    failed_reads =  seqsum[seqsum['passes_filtering']==False]\n",
    "    pass_= len(list(pass_reads.read_id.unique()))\n",
    "    fail_= len(list(failed_reads.read_id.unique()))\n",
    "\n",
    "    statistic_list = [total, pass_, fail_, sample]\n",
    "    print(statistic_list)\n",
    "    single_sample_list.append(statistic_list)\n",
    "\n",
    "mapping_df = pd.DataFrame(single_sample_list, columns=['total','pass','fail','sample'])\n",
    "mapping_df.to_csv(dir+'general_statistic_sequencing_summary.txt',sep='\\t')"
   ]
  },
  {
   "cell_type": "code",
   "execution_count": 30,
   "metadata": {},
   "outputs": [
    {
     "data": {
      "text/html": [
       "<div>\n",
       "<style scoped>\n",
       "    .dataframe tbody tr th:only-of-type {\n",
       "        vertical-align: middle;\n",
       "    }\n",
       "\n",
       "    .dataframe tbody tr th {\n",
       "        vertical-align: top;\n",
       "    }\n",
       "\n",
       "    .dataframe thead th {\n",
       "        text-align: right;\n",
       "    }\n",
       "</style>\n",
       "<table border=\"1\" class=\"dataframe\">\n",
       "  <thead>\n",
       "    <tr style=\"text-align: right;\">\n",
       "      <th></th>\n",
       "      <th>total</th>\n",
       "      <th>pass</th>\n",
       "      <th>fail</th>\n",
       "      <th>sample</th>\n",
       "    </tr>\n",
       "  </thead>\n",
       "  <tbody>\n",
       "    <tr>\n",
       "      <th>0</th>\n",
       "      <td>1532446</td>\n",
       "      <td>704973</td>\n",
       "      <td>827473</td>\n",
       "      <td>220908_30C_100mMNAIN3</td>\n",
       "    </tr>\n",
       "    <tr>\n",
       "      <th>1</th>\n",
       "      <td>683628</td>\n",
       "      <td>261145</td>\n",
       "      <td>422483</td>\n",
       "      <td>221005_30C_100mMNAIN3_Rep2</td>\n",
       "    </tr>\n",
       "    <tr>\n",
       "      <th>2</th>\n",
       "      <td>933402</td>\n",
       "      <td>500828</td>\n",
       "      <td>432574</td>\n",
       "      <td>221007_30C_100mMNAIN3_Rep2_2</td>\n",
       "    </tr>\n",
       "    <tr>\n",
       "      <th>3</th>\n",
       "      <td>1079174</td>\n",
       "      <td>627188</td>\n",
       "      <td>451986</td>\n",
       "      <td>221025_30C_100mMNAIN3_Rep2_3</td>\n",
       "    </tr>\n",
       "    <tr>\n",
       "      <th>4</th>\n",
       "      <td>1050951</td>\n",
       "      <td>641393</td>\n",
       "      <td>409558</td>\n",
       "      <td>221025_30C_100mMNAIN3_Rep2_4</td>\n",
       "    </tr>\n",
       "    <tr>\n",
       "      <th>5</th>\n",
       "      <td>983537</td>\n",
       "      <td>480965</td>\n",
       "      <td>502572</td>\n",
       "      <td>221031_30C_100mMNAIN3_Rep1_2</td>\n",
       "    </tr>\n",
       "    <tr>\n",
       "      <th>6</th>\n",
       "      <td>1785968</td>\n",
       "      <td>775893</td>\n",
       "      <td>1010075</td>\n",
       "      <td>221005_30Cto37C_100mMNAIN3_Rep2</td>\n",
       "    </tr>\n",
       "    <tr>\n",
       "      <th>7</th>\n",
       "      <td>1387938</td>\n",
       "      <td>644620</td>\n",
       "      <td>743318</td>\n",
       "      <td>221010_30Cto37C_100mMNAIN3_Rep2_2</td>\n",
       "    </tr>\n",
       "    <tr>\n",
       "      <th>8</th>\n",
       "      <td>1041168</td>\n",
       "      <td>511001</td>\n",
       "      <td>530167</td>\n",
       "      <td>221027_30Cto37C_100mMNAIN3_Rep2_3</td>\n",
       "    </tr>\n",
       "    <tr>\n",
       "      <th>9</th>\n",
       "      <td>987549</td>\n",
       "      <td>532861</td>\n",
       "      <td>454688</td>\n",
       "      <td>221027_30Cto37C_100mMNAIN3_Rep2_4</td>\n",
       "    </tr>\n",
       "    <tr>\n",
       "      <th>10</th>\n",
       "      <td>1459472</td>\n",
       "      <td>736563</td>\n",
       "      <td>722909</td>\n",
       "      <td>230109_30Cto37C_100mMNAIN3_Rep4_1</td>\n",
       "    </tr>\n",
       "    <tr>\n",
       "      <th>11</th>\n",
       "      <td>1672814</td>\n",
       "      <td>820257</td>\n",
       "      <td>852557</td>\n",
       "      <td>230109_30Cto37C_100mMNAIN3_Rep4_2</td>\n",
       "    </tr>\n",
       "    <tr>\n",
       "      <th>12</th>\n",
       "      <td>1597023</td>\n",
       "      <td>865518</td>\n",
       "      <td>731505</td>\n",
       "      <td>230814_Candida_in_vitro_30C_100mMNAIN3_1</td>\n",
       "    </tr>\n",
       "    <tr>\n",
       "      <th>13</th>\n",
       "      <td>1944563</td>\n",
       "      <td>1252687</td>\n",
       "      <td>691876</td>\n",
       "      <td>230814_Candida_in_vitro_30C_100mMNAIN3_2</td>\n",
       "    </tr>\n",
       "    <tr>\n",
       "      <th>14</th>\n",
       "      <td>2065872</td>\n",
       "      <td>1205568</td>\n",
       "      <td>860304</td>\n",
       "      <td>230831_Candida_invitro_30C_100mMNAIN3_R2</td>\n",
       "    </tr>\n",
       "    <tr>\n",
       "      <th>15</th>\n",
       "      <td>2352377</td>\n",
       "      <td>1382080</td>\n",
       "      <td>970297</td>\n",
       "      <td>230907_Candida_invitro_30C_100mMNAIN3_R2_2</td>\n",
       "    </tr>\n",
       "    <tr>\n",
       "      <th>16</th>\n",
       "      <td>1481788</td>\n",
       "      <td>506941</td>\n",
       "      <td>974847</td>\n",
       "      <td>230817_Candida_in_vitro_37C_100mMNAIN3_1</td>\n",
       "    </tr>\n",
       "    <tr>\n",
       "      <th>17</th>\n",
       "      <td>1823050</td>\n",
       "      <td>610632</td>\n",
       "      <td>1212418</td>\n",
       "      <td>230817_Candida_in_vitro_37C_100mMNAIN3_2</td>\n",
       "    </tr>\n",
       "    <tr>\n",
       "      <th>18</th>\n",
       "      <td>1926700</td>\n",
       "      <td>727445</td>\n",
       "      <td>1199255</td>\n",
       "      <td>230905_Candida_invitro_37C_100mMNAIN3_R2_2</td>\n",
       "    </tr>\n",
       "    <tr>\n",
       "      <th>19</th>\n",
       "      <td>1632120</td>\n",
       "      <td>543374</td>\n",
       "      <td>1088746</td>\n",
       "      <td>230905_Candida_invitro_37C_100mMNAIN3_R2_3</td>\n",
       "    </tr>\n",
       "  </tbody>\n",
       "</table>\n",
       "</div>"
      ],
      "text/plain": [
       "      total     pass     fail                                      sample\n",
       "0   1532446   704973   827473                       220908_30C_100mMNAIN3\n",
       "1    683628   261145   422483                  221005_30C_100mMNAIN3_Rep2\n",
       "2    933402   500828   432574                221007_30C_100mMNAIN3_Rep2_2\n",
       "3   1079174   627188   451986                221025_30C_100mMNAIN3_Rep2_3\n",
       "4   1050951   641393   409558                221025_30C_100mMNAIN3_Rep2_4\n",
       "5    983537   480965   502572                221031_30C_100mMNAIN3_Rep1_2\n",
       "6   1785968   775893  1010075             221005_30Cto37C_100mMNAIN3_Rep2\n",
       "7   1387938   644620   743318           221010_30Cto37C_100mMNAIN3_Rep2_2\n",
       "8   1041168   511001   530167           221027_30Cto37C_100mMNAIN3_Rep2_3\n",
       "9    987549   532861   454688           221027_30Cto37C_100mMNAIN3_Rep2_4\n",
       "10  1459472   736563   722909           230109_30Cto37C_100mMNAIN3_Rep4_1\n",
       "11  1672814   820257   852557           230109_30Cto37C_100mMNAIN3_Rep4_2\n",
       "12  1597023   865518   731505    230814_Candida_in_vitro_30C_100mMNAIN3_1\n",
       "13  1944563  1252687   691876    230814_Candida_in_vitro_30C_100mMNAIN3_2\n",
       "14  2065872  1205568   860304    230831_Candida_invitro_30C_100mMNAIN3_R2\n",
       "15  2352377  1382080   970297  230907_Candida_invitro_30C_100mMNAIN3_R2_2\n",
       "16  1481788   506941   974847    230817_Candida_in_vitro_37C_100mMNAIN3_1\n",
       "17  1823050   610632  1212418    230817_Candida_in_vitro_37C_100mMNAIN3_2\n",
       "18  1926700   727445  1199255  230905_Candida_invitro_37C_100mMNAIN3_R2_2\n",
       "19  1632120   543374  1088746  230905_Candida_invitro_37C_100mMNAIN3_R2_3"
      ]
     },
     "execution_count": 30,
     "metadata": {},
     "output_type": "execute_result"
    }
   ],
   "source": [
    "mapping_df"
   ]
  },
  {
   "cell_type": "code",
   "execution_count": null,
   "metadata": {},
   "outputs": [],
   "source": []
  },
  {
   "cell_type": "code",
   "execution_count": null,
   "metadata": {},
   "outputs": [],
   "source": [
    "### all the backup ############################################################################"
   ]
  },
  {
   "cell_type": "code",
   "execution_count": null,
   "metadata": {},
   "outputs": [],
   "source": [
    "# Minimap2 vs DTW\n",
    "# ----------------\n",
    "df_mm2 = df.loc[df_final_alignment[\"is_minimap2\"],:]\n",
    "df_dtw = df.loc[(df_final_alignment[\"is_minimap2\"]==False)&(df_final_alignment[\"diff\"]>=0.09),:]\n",
    "\n",
    "# PASS vs FAIL\n",
    "# -------------\n",
    "df_pass = df.loc[(df_final_alignment[\"is_pass\"]==True)&((df_final_alignment[\"diff\"]>=0.09)|(df_final_alignment[\"diff\"]<=-1)),:]  # <=-1, just one hit\n",
    "df_fail = df.loc[(df_final_alignment[\"is_pass\"]==False)&((df_final_alignment[\"diff\"]>=0.09)|(df_final_alignment[\"diff\"]<=-1)),:] # specific unmapped? "
   ]
  },
  {
   "cell_type": "code",
   "execution_count": null,
   "metadata": {},
   "outputs": [],
   "source": [
    "## to get the total reads from summary"
   ]
  },
  {
   "cell_type": "code",
   "execution_count": null,
   "metadata": {},
   "outputs": [],
   "source": [
    "seqsum = \"data/fast5/{mod}/{sample}/sequencing_summary.txt\" "
   ]
  },
  {
   "cell_type": "code",
   "execution_count": null,
   "metadata": {},
   "outputs": [],
   "source": [
    "import numpy as np\n",
    "import pandas as pd\n",
    "import pickle as pkl\n",
    "import gzip\n",
    "import h5py\n",
    "import argparse\n",
    "import math\n",
    "from collections import OrderedDict, Counter "
   ]
  },
  {
   "cell_type": "code",
   "execution_count": null,
   "metadata": {},
   "outputs": [],
   "source": [
    "def parse_list(f_list_of_pass_reads):\n",
    "    df = pd.read_csv(f_list_of_pass_reads, sep=\"\\t\")\n",
    "    dict_list_of_pass_reads = dict(df[[\"read_id\", \"passes_filtering\"]].values.tolist())\n",
    "    return dict_list_of_pass_reads"
   ]
  },
  {
   "cell_type": "code",
   "execution_count": null,
   "metadata": {},
   "outputs": [],
   "source": [
    "dict_list_of_pass_reads = parse_list(f_list_of_pass_reads)"
   ]
  },
  {
   "cell_type": "code",
   "execution_count": null,
   "metadata": {},
   "outputs": [],
   "source": [
    "f_list_of_pass_reads = args.s   #\"sequencing_summary_FAR18166_6c2beaa1.txt\""
   ]
  },
  {
   "cell_type": "code",
   "execution_count": null,
   "metadata": {},
   "outputs": [],
   "source": []
  },
  {
   "cell_type": "code",
   "execution_count": null,
   "metadata": {},
   "outputs": [],
   "source": []
  },
  {
   "cell_type": "code",
   "execution_count": null,
   "metadata": {},
   "outputs": [],
   "source": []
  },
  {
   "cell_type": "code",
   "execution_count": null,
   "metadata": {},
   "outputs": [],
   "source": []
  },
  {
   "cell_type": "code",
   "execution_count": null,
   "metadata": {},
   "outputs": [],
   "source": []
  },
  {
   "cell_type": "code",
   "execution_count": null,
   "metadata": {},
   "outputs": [],
   "source": []
  },
  {
   "cell_type": "code",
   "execution_count": null,
   "metadata": {},
   "outputs": [],
   "source": []
  }
 ],
 "metadata": {
  "kernelspec": {
   "display_name": "gis",
   "language": "python",
   "name": "python3"
  },
  "language_info": {
   "codemirror_mode": {
    "name": "ipython",
    "version": 3
   },
   "file_extension": ".py",
   "mimetype": "text/x-python",
   "name": "python",
   "nbconvert_exporter": "python",
   "pygments_lexer": "ipython3",
   "version": "3.9.6"
  }
 },
 "nbformat": 4,
 "nbformat_minor": 2
}
